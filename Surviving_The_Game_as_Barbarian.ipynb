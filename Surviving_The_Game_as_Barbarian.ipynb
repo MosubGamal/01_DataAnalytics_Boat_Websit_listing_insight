{
  "nbformat": 4,
  "nbformat_minor": 0,
  "metadata": {
    "colab": {
      "provenance": [],
      "authorship_tag": "ABX9TyOuI5KxIOjNJlUKmEywDaRh",
      "include_colab_link": true
    },
    "kernelspec": {
      "name": "python3",
      "display_name": "Python 3"
    },
    "language_info": {
      "name": "python"
    }
  },
  "cells": [
    {
      "cell_type": "markdown",
      "metadata": {
        "id": "view-in-github",
        "colab_type": "text"
      },
      "source": [
        "<a href=\"https://colab.research.google.com/github/MosubGamal/01_DataAnalytics_Boat_Websit_listing_insight/blob/master/Surviving_The_Game_as_Barbarian.ipynb\" target=\"_parent\"><img src=\"https://colab.research.google.com/assets/colab-badge.svg\" alt=\"Open In Colab\"/></a>"
      ]
    },
    {
      "cell_type": "markdown",
      "source": [
        "# Get the text of the Chapter"
      ],
      "metadata": {
        "id": "DGMGerSn71DH"
      }
    },
    {
      "cell_type": "code",
      "execution_count": 1,
      "metadata": {
        "colab": {
          "base_uri": "https://localhost:8080/"
        },
        "id": "ryeSnUJ2Px0q",
        "outputId": "b4f260c8-49e1-4b89-cde6-fe871ee419ed"
      },
      "outputs": [
        {
          "output_type": "stream",
          "name": "stdout",
          "text": [
            "\n",
            "“글쎄, 어쩌다보니 이렇게 저렇게 인연이 있었네.” “아… 그렇습니까?”훈훈한 분위기에서 하하호호 웃으며 서로에게 덕담을 날리는 GM과 할배.영 못마땅한 시선으로 둘을 지켜보던 이백호가 궁시렁거리기 시작한다.“하, 저 간신배 새끼는 쓸개도 없나?”사실 나도 비슷한 감정이다.어떻게 저리 멍청하게 웃을 수 있지?저 할배 새끼만 없었어도 이런 일은 벌어지지 않았을 텐—.“흐음, 나는 똑똑한 친구라고 표현하고 싶네마는.”“…응?”“이성적이고 젊은 친구가 예의도 알지 않나?”그때 파멸할배가 GM을 비호하는 듯한 대사를 쳤다.늙은이들 사이에서 GM은 나름 잘 먹히는 인물상인 건가?알 수 없으나, 파멸할배도 아우릴 가비스 앞에서는 GM과 딱히 다를 바 없었다.“오랜만이올시다, 마스터.”“아, 루인제네스……. 반갑네. 잘 지냈나 그동안?”“잘 지내고 못 지내고 할 게 뭐 있겠소이까?”  “잘 지냈다는 뜻으로 듣겠네.”“그나저나 마스터는 그 전이나 지금이나 변한 게 없구려. 어찌 된 게 나 혼자서만 세월을 맞은 것 같소이다.”“허허, 자네도 여전히 젊네.”오랜만에 만나 가볍게 스몰 토크를 나누는가 싶었으나, 그 시간은 얼마 이어지지 않았다.“오랜만에 만난 김에 혹시 하나만 물어도 되겠소?”“해보게나.”허락이 떨어지기 무섭게 파멸할배가 묵직하게 한 마디를 날린다.“마스터는 이미 불멸을 이룬 것이오?”“허허, 시작부터 아주 답하기 어려운 질문을 던지는군.”“답하기 곤란하다면 굳이 듣지 않아도—.”  “그래도 한 가지만 답해주자면.”이내 아우릴 가비스가 파멸할배의 말을 끊으며 입을 열었다.마치 어린아이에게 조언을 해주듯.“그 어느 세상에서도 영원은 존재하지 않네. 루인제네스 군.”“…….”“무엇이든 언젠가는 변하기 마련이지. 설령 절대 변하지 않으리라 여겼던 것마저도.”“……굉장히 철학적인 답변이구려.”빈말이 아니라 정말로 인상 깊었다는 것처럼 가만히 고개를 주억이는 파멸할배.다만 이백호는 코웃음을 칠 뿐이었다.“철학은 무슨. 해석하자면, 때리다보면 뒤지긴 한단 거 아냐?”“오늘따라 유달리 심술이 난 거 같군?”“그럼 안 나겠어? 딱 봐도 우리를 거기다가 가둔 게 당신 수작인 걸 이렇게 알게 됐는데.”  더 스몰 토크를 이어나가고 싶지 않은지, 성난 감정을 숨기지 않으며 본론으로 들어가는 이백호.“내가 당장 안 덤벼든 것만으로도 감사하게 여겨야 해. 당신은.”늘 그렇듯 강한 워딩을 사용하며 기싸움에 들어간 녀석이지만, 애석하게도 이번에는 상대도 만만치가 않았다.“하하… 감사해야 할 쪽은 자네라네.”“하! 감사?”기도 차지 않는다는 것처럼 숨을 내뱉는 이백호를 보며 아우릴 가비스가 강렬한 안광을 흩뿌린다.“그럼 감사해야 하지 않겠나.”“…….”“아직도 내가 자네를 ‘처분’할 이유를 찾지 못한 것에.”말이 끝나는 즉시 공기가 뒤바뀐 게 온몸으로 느껴진다.  “…….”부드럽던 공기에 강철로 된 가시가 돋아난 것만 같은 감각.이내 분위기만으로 모두를 압도시킨 아우릴 가비스가 한 걸음 앞으로 내디디며 말을 잇는다.“백호군, 아직도 모르겠나? 자네를 방해한 것은 내가 자네를 ‘처분’하지 않기 위함이었다는 걸.”덤벼드냐 안 덤벼드냐를 논하던 이백호와는 차원이 다를 정도로 직접적이고 위협적인 워딩.“하지만 자꾸 이렇게 엇나가면 나도 어쩔 수 없이 ‘재고’를 하는 수밖에 없네.”딱 보니까 이백호도 살짝 기가 눌린 게 보인다.하긴, 아무리 얘라고 해도 이 할배한테는 한 수 접어주고 갈 수밖에 없겠지.“……그래서 대체 뭘 하고 싶은 건데? 브라이엇, 걔는 또 뭐고. 보아하니 한참 전부터 내 옆에 심어둔 거 같은데.”“브라이엇 군은 자네를 위한 길잡이였네.”“뭐? 길잡이……?”“자네는 요주의 인물이니까. 한 명쯤은 필요하지 않겠나. 엇나가지 않도록 옆에서 올바른 길을 제시할 길잡이가.”  옆에서 듣는 내가 어처구니가 없을 정도로 뻔뻔한 대사.다만 이쪽 세상이 원래 그렇다.“…….”힘이 없으면 목소리도 낼 수 없는 야만의 세계.심지어 오랜 시간 강자의 특권을 누려왔던 이백호인 만큼 이런 태도에 더욱더 할 말이 없었을 터.“그냥 말해.”한참이나 침묵을 이어가던 이백호가 어딘가 체념한 목소리로 말을 잇는다.“나한테 뭘 원하는 건지……. 그냥 말해보라고…….”그 짧은 물음에서 느껴진 감정은 울분 같은 게 아니었다.단지 강하게 느껴졌다.이백호, 이 녀석이 그 긴 시간 동안 얼마나 지치고 지쳤는지.“흐음… 딱히 자네에게 원하는 건 없네마는.”“……뭐?”“이제는 자네도 알지 않나? 자네가 불량품이라는 것 정도는.”  이내 아우릴 가비스가 이백호를 바라보며 또박또박 정확한 발음으로 말한다.“단 한 번도 나는 자네를 원한 적 없네. 자네가 이곳으로 넘어오길 바라지도 않았고. 그러니 자네가 날 증오하는 것도 사실 이해가 되지 않네. 방향이 틀렸지 않은가?”“…….”“뭐, 굳이 바라는 게 있다면 딱 하나. 주제를 알고 조용히 좀 지내라는 걸세.”“…….”“조연이면 조연답게. 이야기를 바꾸려 하지 말고.”아우릴 가비스의 날 선 말에 이백호는 아무런 답도 하지 않고 침묵했다.하나 핏줄이 선 눈이 말해주고 있었다.녀석이 지금 얼마나 큰 모멸감에 시달리고 있는지.아, 물론 공감 수치가 제로인 파멸할배는 그런 건 신경도 쓰지 않는 듯했지만.“이백호가 조연이라면… 우리 역시 조연이라는 뜻이겠구려?”오로지 자신의 관심을 끈 부분에만 흥미를 보이며 눈을 빛내는 파멸할배.  “자네도 그 사실에 서운한가?”아우릴 가비스의 물음에 파멸할배가 고개를 내저었다.“딱히 그렇진 않소이다. 자신이 주인공이라 생각할 나이는 한참이나 지난 데다가…….”“데다가?”“남이 만든 이야기의 주인공이 되어서 뭐하겠소?”“……굉장히 의미심장하게 들리는 말이로군?”아우릴 가비스가 어딘가 찜찜하다는 눈으로 파멸할배를 흘겼으나, 파멸할배는 아무런 내색조차 하지 않으며 다음 얘기로 넘어갈 뿐이었다.“한데 플라이어 양과, 아우레스 군도 구면이오?”“흐음…….”“저 둘과는 딱히 연관될 점이 있었을 거 같지가 않아서 말이오.”  그 물음에 아우릴 가비스는 고민하는 듯한 눈으로 제이나와 렉 아우레스를 번갈아 보았다.그리고…….“전 예전에 딱 한 번 만난 적이 있어요.”제이나가 먼저 솔직하게 인연이 있었음을 밝힌다.“제물을 바쳐 카루이 님에게 잃어버린 기억을 되찾을 수 있다는 걸 알려주셨죠. 바로 저분께서.”“……그런 일이 있었군? 그럼 아우레스 군은?”“어… 어……. 나, 나는 그때 왕가 놈들이 노아르크 도시를 침공했을 때를 시작으로 성주님 옆에서 몇 번 뵌 적이 있었소이만?”누가 봐도 거짓말을 하는 듯한 말투.파멸할배는 물론이고 이백호까지 눈살을 좁히자, 아우릴 가비스가 고개를 절레절레 저으며 다소 충격적인 진실을 입 밖으로 꺼냈다.“아우레스 군은 루인제네스 군과 같은 세상 출신일세.”“……뭐?”“저, 정말이에요? 이 사람도 악령이었다고요……?”보아하니 일행 중 아무도 알지 못하던 정보였던 거 같은데…….  ‘같이 있는 여섯 명 전부 악령이라니…….’이건 뭐 악령 드림팀도 아니고.공교롭다는 말로도 모자라다.예전에도 절반 이상이 악령이라는 사실에 신기해 한 기억이 있는데, 설마 절반이 아니라 전원이었을 줄이야.“저… 혹시 브라이엇 씨도…….”그때 제이나가 아우릴 가비스를 보며 말꼬리를 흐렸다.아무래도 나랑 같은 생각을 한 모양인데…….“브라이엇 군은 이 세상에서 나고 자란 순혈 주민일세.”음, 그럼 일곱 명 중 여섯 명이 악령이었던 거네.왠지 기분이 이상하다.그야 어느 집단을 가든 악령들은 극소수에 속하는 입장이었으니까.유일하게 그 반대였던 고스트 버스터즈가 악령들 사이에서 특별했던 것도 바로 그 이유고.“순혈 주민은 뭔 또 개같은 표현이야?”특정 어휘가 마음에 안 든다는 듯 투덜거리는 이백호였으나, 아우릴 가비스는 대꾸조차 해주지 않았다.“호오, 아우레스 군의 고향이 나와 같을 줄은 전혀 예상도 못했소이만. 왜 진작 말하지 않았나?”  “아하… 하하… 속이려 한 것은 아닌데……. 실은 고향이 같은 줄은 나도 지금 처음 알았소이다.”“하긴, 먼저 꺼낼 이야기는 아니니… 자네와는 앞으로 얘기할 게 많겠군. 그쪽 세상에 대해 궁금한 게 많아서 말일세.”“아하하… 무엇이든 물어보시오. 솔직히 말해 나도 기억이 가물가물 하오이만, 떠오르는 것들은 전부 다 말해줄 테니.”왠지 앞으로는 쉬는 시간만 되면 아우레스와 파멸할배가 나란히 앉아 도란도란 이야기꽃을 피울 것만 같은데…….‘상상이 잘 안 된단 말이지…….’그렇게 아우레스가 악령이었다는 것에 내심 놀라며 생각을 정리하고 있던 때였다.“저… 어르신?”GM이 조심스러운 태도로 아우릴 가비스에게 말을 걸었다.“한데 지금 저희가 어디에 있는 것인지 알 수 있을는지요……?”“성벽 밖인지, 안인지. 아니면 그도 아닌 또 다른 어딘가인지가 궁금한가?”“예……. 아, 아무래도 저랑 남작님은 우연히 밖에 나왔다가 휘말린 것이다 보니…….”  “뭐… 자네 입장에서는 그럴 수도 있겠군.”“……예?”어딘가 의미심장하게 들리는 대사에 GM이 고개를 갸웃했지만, 아우릴 가비스는 더 설명하지 않고 바로 아까 전 질문의 대답으로 돌아갔다.“이곳은 성벽 바깥 어딘가일세. 내겐 아주 의미가 깊은 장소지.”“아… 그렇습니까……?”“그래서 정확히 어디인지는 알려줄 수 없음을 양해해주게.”“예…? 그렇다면—.”“걱정하진 말게. 이곳에 계속 자네들을 잡아두겠단 뜻이 아니니.”“아하하… 그렇습니까? 그렇다면 정말 다행입니다. 이렇게까지 긴 여정을 할 예정은 전혀 없었던지라…….”진짜 쓸개도 없는지 이 상황을 만든 범인에게 웃으며 알랑방귀를 뀌어대는 GM.뭐, 그래도 저런 역할을 할 사람이 한 명쯤은 있던 덕분에 얘기가 잘 진행되긴 했지만.  “잡아두지 않겠다면? 이대로 보내주겠단 거야?”불퉁스러운 표정을 지으면서도 대화를 유심히 듣던 이백호가 툭 던지듯이 묻자, 아우릴 가비스가 천천히 고개를 주억인다.“물론일세. 단 한 가지 약속만 해준다면.”“…말해봐.”“이렇게 단도직입적으로 말하는 건 내 예정에 없었네마는. 이왕 이렇게 됐으니 속 시원하게 말하겠네.”“아니, 그러니까 얼른 해보라니—.”“다른 곳에서 답을 찾으려 하지 말게.”아우릴 가비스의 말에 이백호는 잠시 움찔하더니 어색하게 웃었다.“그건 또 무슨 엉뚱한 소리야? 약속을 해달라면서 좀 더 명확하게 말해야 하는 거 아닌가?”“그럼 좀 더 직관적으로 말해주지.”  “…….”“백호, 자네가 왜 왕궁을 목표로 하는지는 충분히 잘 알고 있네.”“그런데……?”“하지만 그곳엔 얼씬도 하지 말게. 어차피 그곳엔 자네가 바라는 답이 없으니까.”아우릴 가비스는 이후 약속을 어긴다거나 했을 때를 대비한 패널티에 대해선 일절 언급하지 않았다.그야 이미 앞에서 몇 번이나 말했으니까.저 말을 따르지 않는다면, 이백호는 ‘처분’을 당할 것이다.그리고 그것을 이백호도 알기에.“……그럼 대체 어디에 답이 있는데?”이백호는 오직 딱 한 가지만을 추가로 물었고, 아우릴 가비스는 인자하게 웃으며 말했다.“자네들은 ‘탐험가’이지 않은가.”이백호의 어깨를 토닥이며.  “미궁에서 답을 찾게.”마치 악의 따위는 전혀 없다는 것처럼.“자네들이 원하는 모든 답은 그곳에 있으니까.”부드러운 목소리로 말하는 아우릴 가비스를 보고 있자니 왠지 ‘카루이’가 떠오른다.그러고 보면 이 할배는 카루이와 닮았다.늘 사람을 갖고 논다는 점에서.***말이 사라진 이백호에게 아우릴 가비스는 어떠한 보채는 말 없이 차분히 대답을 기다렸다.“…….”“…….”편안한 듯하면서도 무거운 압박.이백호가 백기를 들어 올리기까지는 긴 시간이 필요치 않았다.“아, 오케이. 오케이. 알겠어. 뭔 말인지. 쉽게 말해, 왕궁은 건들지 말라는 거잖아? 안 건들게. 그럼 됐지?”거, 백기를 들 거면 건들건들거리는 태도는 빼도 될 텐데.  ‘뭐… 원하는 게 있나?’속으로 그런 생각을 하던 때, 이백호가 능청스러운 말투로 말을 잇는다.“근데 당신도 만능은 아닌가봐? 이렇게 빨빨거리며 돌아다니면서 뒷수습 하는 거 보니.”“……?”“왜 그렇잖아? 보아하니 그쪽은 미궁이 폐쇄된 것도 별로 마음에 안 드는 거 같던데. 사실 이게 다 그쪽이 전멸 위기에 처한 노아르크를 구해줘서 생긴 일이잖아?”“그래서 대체 하고 싶은 말이 뭔가?”“아니, 뭐 따로 그런 게 있는 건 아니고……. 그냥 그렇다고. 이렇게 우리 앞에 모습을 드러낼 정도면 당신도 뭔가 일이 꼬이고 있겠구나 싶어서.”해석하자면, 자기의 추측이 맞는지 아닌지 확인하기 위해 떠봤다는 뜻.\n",
            "     \n"
          ]
        }
      ],
      "source": [
        "import requests\n",
        "from bs4 import BeautifulSoup\n",
        "\n",
        "url = \"https://www.fortuneeternal.com/novel/surviving-the-game-as-a-barbarian-raw/chapter-696/\"\n",
        "OUTPUT_PATH = \"/content/drive/MyDrive/Hubby/surviving-the-game-as-a-barbarian/696.mp3\"\n",
        "\n",
        "# Make a GET request to the URL\n",
        "response = requests.get(url)\n",
        "\n",
        "# Check for successful response\n",
        "if response.status_code == 200:\n",
        "    # Parse the HTML content\n",
        "    soup = BeautifulSoup(response.content, \"html.parser\")\n",
        "\n",
        "    # Find the element containing the body text\n",
        "    body_element = soup.find(\"div\", class_=\"entry-content\")\n",
        "\n",
        "    # Extract the body text\n",
        "    body_text = body_element.text\n",
        "\n",
        "    # Print the body text\n",
        "    print(body_text)\n",
        "else:\n",
        "    print(\"Error fetching the content. Status code:\", response.status_code)\n"
      ]
    },
    {
      "cell_type": "markdown",
      "source": [
        "## Use OPEN AI API TO Translate"
      ],
      "metadata": {
        "id": "BXWutIWzec3x"
      }
    },
    {
      "cell_type": "code",
      "source": [
        "!pip install openai"
      ],
      "metadata": {
        "id": "sIJbZd8xe1y4"
      },
      "execution_count": null,
      "outputs": []
    },
    {
      "cell_type": "code",
      "source": [
        "import openai\n",
        "\n",
        "API_KEY = \"sk-proj-ZpYdV19ovri1IeFAV3KNT3BlbkFJQnmanoZpliwGwEY3uCm8\"\n",
        "client = openai.OpenAI(api_key= API_KEY)\n",
        "\n",
        "def get_completion(prompt, model=\"gpt-3.5-turbo-0125\"):\n",
        "    messages = [{\"role\": \"user\", \"content\": prompt}]\n",
        "    response = client.chat.completions.create(\n",
        "        model=model,\n",
        "        messages=messages,\n",
        "        temperature=0\n",
        "    )\n",
        "    return response.choices[0].message.content"
      ],
      "metadata": {
        "id": "kF9ms3qQebOC"
      },
      "execution_count": 18,
      "outputs": []
    },
    {
      "cell_type": "markdown",
      "source": [
        "## Use GPT-3.5 Turbo for translation"
      ],
      "metadata": {
        "id": "0ezzbMyGq0mO"
      }
    },
    {
      "cell_type": "code",
      "source": [
        "chapter = body_text\n",
        "\n",
        "prompt = f\"\"\"\n",
        "You are a seasoned translator with expertise in Korean-to-English translations, particularly in the genre of faction novels. You have a reputation for meticulous attention to detail and preserving the original's literary qualities.\n",
        "\n",
        "Task: Your current project involves translating a specified chapter from a Korean faction novel into English. This chapter is enclosed within the delimiters <>.\n",
        "\n",
        "Instructions:\n",
        "\n",
        "Identify the Chapter: Carefully extract the text that appears within the delimiters <>.\n",
        "Complete Translation: It is crucial that you translate the entire chapter without omitting any parts, as each segment is significant for the continuity and integrity of the novel.\n",
        "Formatting: Format the translated text to mirror the layout of a typical English-language novel. This includes proper paragraph structure, dialogue indentation, and enhancing overall readability to meet publication standards.\n",
        "Objective: Deliver a complete, accurately translated, and well-formatted English version of the chapter, showcasing your expertise and commitment to literary excellence.\n",
        "\n",
        "Chapter : <{chapter}>\n",
        "\"\"\"\n",
        "tran_chapter_gpt3turbo = get_completion(prompt, \"gpt-4-turbo\")"
      ],
      "metadata": {
        "id": "5bGht9L2q9GX"
      },
      "execution_count": null,
      "outputs": []
    },
    {
      "cell_type": "code",
      "source": [
        "print(tran_chapter_gpt3turbo)"
      ],
      "metadata": {
        "id": "lxSxJ9gprAkl"
      },
      "execution_count": null,
      "outputs": []
    },
    {
      "cell_type": "code",
      "source": [
        "file_path = \"C:\\\\Users\\Mosub Gamal\\Desktop\\Python Project\\chapter696.txt\"\n",
        "\n",
        "with open(file_path, 'r', encoding=\"utf-8\") as file:\n",
        "    tran_chapter_gpt4turbo = file.read()\n"
      ],
      "metadata": {
        "id": "BkkpN3qyyQ7T"
      },
      "execution_count": 23,
      "outputs": []
    },
    {
      "cell_type": "markdown",
      "source": [
        "## Convert it to Json"
      ],
      "metadata": {
        "id": "Pa3m7MidsiYo"
      }
    },
    {
      "cell_type": "code",
      "source": [
        "json_format = \"\"\"\n",
        "{\n",
        "    \"character_name\": \"Name or Narrator\",\n",
        "    \"type\": \"dialogue or narration\",\n",
        "    \"content\": \"Exact text segment from the narrative.\"\n",
        "}\n",
        "\"\"\"\n",
        "\n",
        "prompt_format = f\"\"\"\n",
        "Transform the provided narrative text into a JSON format. Each piece of dialogue and narration should be encapsulated in a JSON object identifying the character involved and narrator for other pieces, the type of narrative (dialogue or narration), and the content.\n",
        "\n",
        "Instructions:\n",
        "\n",
        "1.Text Analysis: Analyze the narrative to differentiate between narration and dialogue. Narration typically does not include direct speech and is more descriptive, while dialogue is presented as a speech by characters.\n",
        "2.Character Identification: For dialogues, identify the speaker and label them correctly in the character_name field. If the text is narration, assign the character_name as 'Narrator'.\n",
        "3.Type Classification: Assign the type of text as either dialogue for direct speech or narration for descriptive text.\n",
        "4.Content Extraction: Extract the exact wording from the text for the content field, ensuring it matches the original narrative without alterations.\n",
        "5.JSON Formatting: Format the output in JSON with each segment as a separate object within an array. Each object should follow this structure:\n",
        "{json_format}\n",
        "\n",
        "Expected Outcome:\n",
        "\n",
        "The resulting JSON should be an array of objects, each representing a segment of the narrative, categorized and formatted as specified.\n",
        "Special Note: in the content put only the orginal text do not put anything more.\n",
        "text: <{tran_chapter_gpt4turbo}>\n",
        "\"\"\"\n",
        "\n",
        "chapter_json = get_completion(prompt_format, \"gpt-3.5-turbo-1106\")"
      ],
      "metadata": {
        "id": "FRj7Sqn6q-_S"
      },
      "execution_count": 41,
      "outputs": []
    },
    {
      "cell_type": "code",
      "source": [
        "import json\n",
        "\n",
        "def read_string_to_list(input_string):\n",
        "    if input_string is None:\n",
        "        return None\n",
        "\n",
        "    try:\n",
        "        input_string = input_string.replace(\"'\", \"\\\"\")  # Replace single quotes with double quotes for valid JSON\n",
        "        data = json.loads(input_string)\n",
        "        return data\n",
        "    except json.JSONDecodeError:\n",
        "        print(\"Error: Invalid JSON string\")\n",
        "        return None"
      ],
      "metadata": {
        "id": "MmrEHoahtxk1"
      },
      "execution_count": 139,
      "outputs": []
    },
    {
      "cell_type": "code",
      "source": [
        "print(read_string_to_list(chapter_json))"
      ],
      "metadata": {
        "id": "JAsbORRRxmTh",
        "colab": {
          "base_uri": "https://localhost:8080/"
        },
        "outputId": "7af69335-5807-46df-9881-6b8efe2b57df"
      },
      "execution_count": 140,
      "outputs": [
        {
          "output_type": "stream",
          "name": "stdout",
          "text": [
            "Error: Invalid JSON string\n",
            "None\n"
          ]
        }
      ]
    },
    {
      "cell_type": "code",
      "source": [
        "import pandas as pd\n",
        "\n",
        "df = pd.read_json(r\"C:\\Users\\Mosub Gamal\\Desktop\\Python Project\\chapter696.json\")\n",
        "\n",
        "df.head()\n",
        "\n"
      ],
      "metadata": {
        "colab": {
          "base_uri": "https://localhost:8080/",
          "height": 206
        },
        "id": "yz2O5RYLfJ0k",
        "outputId": "e1e0db5b-a53d-4f31-f79f-6cee951f9a73"
      },
      "execution_count": 72,
      "outputs": [
        {
          "output_type": "execute_result",
          "data": {
            "text/plain": [
              "  character_name       type                                            content\n",
              "0       Narrator  narration  Indeed, it seems we have become entangled in t...\n",
              "1    Lee Baek-ho   dialogue  Ha, does that treacherous bastard even have a ...\n",
              "2       Narrator  narration  I felt similarly. How could they laugh so fool...\n",
              "3       Narrator  narration   Hmm, I'd like to describe him as a smart friend.\n",
              "4       Narrator  narration  Isn't he rational and young, and doesn't he kn..."
            ],
            "text/html": [
              "<div>\n",
              "<style scoped>\n",
              "    .dataframe tbody tr th:only-of-type {\n",
              "        vertical-align: middle;\n",
              "    }\n",
              "\n",
              "    .dataframe tbody tr th {\n",
              "        vertical-align: top;\n",
              "    }\n",
              "\n",
              "    .dataframe thead th {\n",
              "        text-align: right;\n",
              "    }\n",
              "</style>\n",
              "<table border=\"1\" class=\"dataframe\">\n",
              "  <thead>\n",
              "    <tr style=\"text-align: right;\">\n",
              "      <th></th>\n",
              "      <th>character_name</th>\n",
              "      <th>type</th>\n",
              "      <th>content</th>\n",
              "    </tr>\n",
              "  </thead>\n",
              "  <tbody>\n",
              "    <tr>\n",
              "      <th>0</th>\n",
              "      <td>Narrator</td>\n",
              "      <td>narration</td>\n",
              "      <td>Indeed, it seems we have become entangled in t...</td>\n",
              "    </tr>\n",
              "    <tr>\n",
              "      <th>1</th>\n",
              "      <td>Lee Baek-ho</td>\n",
              "      <td>dialogue</td>\n",
              "      <td>Ha, does that treacherous bastard even have a ...</td>\n",
              "    </tr>\n",
              "    <tr>\n",
              "      <th>2</th>\n",
              "      <td>Narrator</td>\n",
              "      <td>narration</td>\n",
              "      <td>I felt similarly. How could they laugh so fool...</td>\n",
              "    </tr>\n",
              "    <tr>\n",
              "      <th>3</th>\n",
              "      <td>Narrator</td>\n",
              "      <td>narration</td>\n",
              "      <td>Hmm, I'd like to describe him as a smart friend.</td>\n",
              "    </tr>\n",
              "    <tr>\n",
              "      <th>4</th>\n",
              "      <td>Narrator</td>\n",
              "      <td>narration</td>\n",
              "      <td>Isn't he rational and young, and doesn't he kn...</td>\n",
              "    </tr>\n",
              "  </tbody>\n",
              "</table>\n",
              "</div>"
            ]
          },
          "metadata": {},
          "execution_count": 72
        }
      ]
    },
    {
      "cell_type": "code",
      "source": [],
      "metadata": {
        "id": "KFp0aD7Cc2m6"
      },
      "execution_count": null,
      "outputs": []
    }
  ]
}