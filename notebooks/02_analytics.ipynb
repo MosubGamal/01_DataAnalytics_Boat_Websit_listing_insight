{
 "cells": [
  {
   "cell_type": "markdown",
   "id": "18efcd91-b8a6-4fda-b64a-c8ca434320e8",
   "metadata": {},
   "source": [
    "# Data Analytics"
   ]
  },
  {
   "cell_type": "markdown",
   "id": "65e23e54-3d4f-440c-9604-d2cd5070d4d8",
   "metadata": {},
   "source": [
    "## Import libraries and Dataset"
   ]
  },
  {
   "cell_type": "code",
   "execution_count": 1,
   "id": "58e94432-449f-4a0b-a374-a772841fd187",
   "metadata": {},
   "outputs": [],
   "source": [
    "# Declare variables\n",
    "DF_PATH = r\"C:\\Users\\PC\\DataCamp\\Nautical_Boat_website\\nautical_boat_website\\data\\processed\\boat_data_cleaned.pkl\"\n"
   ]
  },
  {
   "cell_type": "code",
   "execution_count": 2,
   "id": "dcdc673c-7a04-4b84-8063-4898b5e07654",
   "metadata": {},
   "outputs": [],
   "source": [
    "# import libraries\n",
    "import numpy as np\n",
    "import pandas as pd\n",
    "import matplotlib.pyplot as plt\n",
    "import seaborn as sns"
   ]
  },
  {
   "cell_type": "code",
   "execution_count": 3,
   "id": "0463b28e-57bb-4806-8736-c2c91a7e19ed",
   "metadata": {
    "tags": []
   },
   "outputs": [],
   "source": [
    "df = pd.read_pickle(DF_PATH)"
   ]
  },
  {
   "cell_type": "code",
   "execution_count": 4,
   "id": "4fd71243-8602-4286-9217-7cc1612777e2",
   "metadata": {},
   "outputs": [
    {
     "data": {
      "text/html": [
       "<div>\n",
       "<style scoped>\n",
       "    .dataframe tbody tr th:only-of-type {\n",
       "        vertical-align: middle;\n",
       "    }\n",
       "\n",
       "    .dataframe tbody tr th {\n",
       "        vertical-align: top;\n",
       "    }\n",
       "\n",
       "    .dataframe thead th {\n",
       "        text-align: right;\n",
       "    }\n",
       "</style>\n",
       "<table border=\"1\" class=\"dataframe\">\n",
       "  <thead>\n",
       "    <tr style=\"text-align: right;\">\n",
       "      <th></th>\n",
       "      <th>price_eur</th>\n",
       "      <th>boat_type</th>\n",
       "      <th>manufacturer</th>\n",
       "      <th>year_built</th>\n",
       "      <th>length</th>\n",
       "      <th>width</th>\n",
       "      <th>material</th>\n",
       "      <th>location</th>\n",
       "      <th>views</th>\n",
       "      <th>country</th>\n",
       "      <th>waterway</th>\n",
       "      <th>condition</th>\n",
       "      <th>fuel</th>\n",
       "    </tr>\n",
       "  </thead>\n",
       "  <tbody>\n",
       "    <tr>\n",
       "      <th>0</th>\n",
       "      <td>3403.74</td>\n",
       "      <td>Motor Yacht</td>\n",
       "      <td>Rigiflex power boats</td>\n",
       "      <td>2017-01-01</td>\n",
       "      <td>4.00</td>\n",
       "      <td>1.90</td>\n",
       "      <td>not defined</td>\n",
       "      <td>Switzerland Â» Lake Geneva Â» VÃ©senaz</td>\n",
       "      <td>226</td>\n",
       "      <td>Switzerland</td>\n",
       "      <td>Lake Geneva</td>\n",
       "      <td>new boat from stock</td>\n",
       "      <td>not defined</td>\n",
       "    </tr>\n",
       "    <tr>\n",
       "      <th>1</th>\n",
       "      <td>3490.00</td>\n",
       "      <td>Center console boat</td>\n",
       "      <td>Terhi power boats</td>\n",
       "      <td>2020-01-01</td>\n",
       "      <td>4.00</td>\n",
       "      <td>1.50</td>\n",
       "      <td>Thermoplastic</td>\n",
       "      <td>Germany Â» BÃ¶nningstedt</td>\n",
       "      <td>75</td>\n",
       "      <td>Germany</td>\n",
       "      <td>BÃ¶nningstedt</td>\n",
       "      <td>new boat from stock</td>\n",
       "      <td>not defined</td>\n",
       "    </tr>\n",
       "    <tr>\n",
       "      <th>2</th>\n",
       "      <td>3845.40</td>\n",
       "      <td>Sport Boat</td>\n",
       "      <td>Marine power boats</td>\n",
       "      <td>NaT</td>\n",
       "      <td>3.69</td>\n",
       "      <td>1.42</td>\n",
       "      <td>Aluminium</td>\n",
       "      <td>Switzerland Â» Lake of Zurich Â» StÃ¤fa ZH</td>\n",
       "      <td>124</td>\n",
       "      <td>Switzerland</td>\n",
       "      <td>Lake of Zurich</td>\n",
       "      <td>new boat from stock</td>\n",
       "      <td>not defined</td>\n",
       "    </tr>\n",
       "    <tr>\n",
       "      <th>3</th>\n",
       "      <td>3367.00</td>\n",
       "      <td>Sport Boat</td>\n",
       "      <td>Pioner power boats</td>\n",
       "      <td>2020-01-01</td>\n",
       "      <td>3.00</td>\n",
       "      <td>1.00</td>\n",
       "      <td>not defined</td>\n",
       "      <td>Denmark Â» Svendborg</td>\n",
       "      <td>64</td>\n",
       "      <td>Denmark</td>\n",
       "      <td>Svendborg</td>\n",
       "      <td>new boat from stock</td>\n",
       "      <td>not defined</td>\n",
       "    </tr>\n",
       "    <tr>\n",
       "      <th>4</th>\n",
       "      <td>3399.00</td>\n",
       "      <td>Fishing Boat</td>\n",
       "      <td>Linder power boats</td>\n",
       "      <td>2019-01-01</td>\n",
       "      <td>3.55</td>\n",
       "      <td>1.46</td>\n",
       "      <td>Aluminium</td>\n",
       "      <td>Germany Â» Bayern Â» MÃ¼nchen</td>\n",
       "      <td>58</td>\n",
       "      <td>Germany</td>\n",
       "      <td>Bayern</td>\n",
       "      <td>new boat from stock</td>\n",
       "      <td>not defined</td>\n",
       "    </tr>\n",
       "  </tbody>\n",
       "</table>\n",
       "</div>"
      ],
      "text/plain": [
       "   price_eur            boat_type          manufacturer year_built  length  \\\n",
       "0    3403.74          Motor Yacht  Rigiflex power boats 2017-01-01    4.00   \n",
       "1    3490.00  Center console boat     Terhi power boats 2020-01-01    4.00   \n",
       "2    3845.40           Sport Boat    Marine power boats        NaT    3.69   \n",
       "3    3367.00           Sport Boat    Pioner power boats 2020-01-01    3.00   \n",
       "4    3399.00         Fishing Boat    Linder power boats 2019-01-01    3.55   \n",
       "\n",
       "   width       material                                    location  views  \\\n",
       "0   1.90    not defined      Switzerland Â» Lake Geneva Â» VÃ©senaz    226   \n",
       "1   1.50  Thermoplastic                    Germany Â» BÃ¶nningstedt     75   \n",
       "2   1.42      Aluminium  Switzerland Â» Lake of Zurich Â» StÃ¤fa ZH    124   \n",
       "3   1.00    not defined                        Denmark Â» Svendborg     64   \n",
       "4   1.46      Aluminium               Germany Â» Bayern Â» MÃ¼nchen     58   \n",
       "\n",
       "        country          waterway            condition         fuel  \n",
       "0  Switzerland       Lake Geneva   new boat from stock  not defined  \n",
       "1      Germany      BÃ¶nningstedt  new boat from stock  not defined  \n",
       "2  Switzerland    Lake of Zurich   new boat from stock  not defined  \n",
       "3      Denmark          Svendborg  new boat from stock  not defined  \n",
       "4      Germany            Bayern   new boat from stock  not defined  "
      ]
     },
     "execution_count": 4,
     "metadata": {},
     "output_type": "execute_result"
    }
   ],
   "source": [
    "df.head()"
   ]
  },
  {
   "cell_type": "markdown",
   "id": "b4246829-4607-4e84-b1a0-b0487815da03",
   "metadata": {},
   "source": [
    "-------\n",
    "# Price\n"
   ]
  },
  {
   "cell_type": "code",
   "execution_count": 5,
   "id": "7782157e-f4f7-4602-9d7f-fc591ecf6b80",
   "metadata": {},
   "outputs": [
    {
     "data": {
      "image/png": "[encoded data removed]",
      "text/plain": [
       "<Figure size 432x288 with 1 Axes>"
      ]
     },
     "metadata": {
      "needs_background": "light"
     },
     "output_type": "display_data"
    }
   ],
   "source": [
    "sns.regplot(data=df.query(\"price_eur < 500000\"),x=\"price_eur\",y=\"views\",fit_reg=False);"
   ]
  },
  {
   "cell_type": "code",
   "execution_count": 6,
   "id": "8ca8d8b7-5a11-4f54-8356-c96473af9549",
   "metadata": {},
   "outputs": [
    {
     "data": {
      "text/plain": [
       "count    9.888000e+03\n",
       "mean     3.032623e+05\n",
       "std      9.721163e+05\n",
       "min      3.224000e+03\n",
       "25%      4.300000e+04\n",
       "50%      9.264959e+04\n",
       "75%      2.488500e+05\n",
       "max      3.100000e+07\n",
       "Name: price_eur, dtype: float64"
      ]
     },
     "execution_count": 6,
     "metadata": {},
     "output_type": "execute_result"
    }
   ],
   "source": [
    "df.price_eur.describe()"
   ]
  },
  {
   "cell_type": "code",
   "execution_count": 7,
   "id": "35b395b1-7926-42ca-9f2b-bd4accb9d0bb",
   "metadata": {},
   "outputs": [],
   "source": [
    "ranges = [1000,10000,100000,200000,500000,np.inf]\n",
    "group_names = [\"1k-10k\",\"10k-100k\",\"100k-200k\",\"200k-500k\",\"500k+\"]\n",
    "df[\"income_group\"] = pd.cut(df[\"price_eur\"],bins=ranges,labels=group_names)"
   ]
  },
  {
   "cell_type": "code",
   "execution_count": 8,
   "id": "4e36613c-4182-4847-b103-a139e3061e2a",
   "metadata": {},
   "outputs": [
    {
     "data": {
      "text/plain": [
       "10k-100k     4975\n",
       "200k-500k    1759\n",
       "100k-200k    1750\n",
       "500k+        1125\n",
       "1k-10k        279\n",
       "Name: income_group, dtype: int64"
      ]
     },
     "execution_count": 8,
     "metadata": {},
     "output_type": "execute_result"
    }
   ],
   "source": [
    "df.income_group.value_counts()"
   ]
  },
  {
   "cell_type": "code",
   "execution_count": 9,
   "id": "cf7b3d7d-a107-44cd-8748-8885d615247e",
   "metadata": {},
   "outputs": [
    {
     "data": {
      "text/plain": [
       "<AxesSubplot:xlabel='income_group'>"
      ]
     },
     "execution_count": 9,
     "metadata": {},
     "output_type": "execute_result"
    },
    {
     "data": {
      "image/png": "[encoded data removed]",
      "text/plain": [
       "<Figure size 432x288 with 1 Axes>"
      ]
     },
     "metadata": {
      "needs_background": "light"
     },
     "output_type": "display_data"
    }
   ],
   "source": [
    "df.groupby(\"income_group\").views.median().plot(kind=\"bar\")"
   ]
  },
  {
   "cell_type": "code",
   "execution_count": 10,
   "id": "ee0bee3e-2ad8-42a0-b59f-ed4472fb9bdc",
   "metadata": {},
   "outputs": [
    {
     "data": {
      "text/html": [
       "<div>\n",
       "<style scoped>\n",
       "    .dataframe tbody tr th:only-of-type {\n",
       "        vertical-align: middle;\n",
       "    }\n",
       "\n",
       "    .dataframe tbody tr th {\n",
       "        vertical-align: top;\n",
       "    }\n",
       "\n",
       "    .dataframe thead th {\n",
       "        text-align: right;\n",
       "    }\n",
       "</style>\n",
       "<table border=\"1\" class=\"dataframe\">\n",
       "  <thead>\n",
       "    <tr style=\"text-align: right;\">\n",
       "      <th></th>\n",
       "    </tr>\n",
       "  </thead>\n",
       "  <tbody>\n",
       "  </tbody>\n",
       "</table>\n",
       "</div>"
      ],
      "text/plain": [
       "Empty DataFrame\n",
       "Columns: []\n",
       "Index: []"
      ]
     },
     "execution_count": 10,
     "metadata": {},
     "output_type": "execute_result"
    }
   ],
   "source": [
    "df.groupby(\"income_group\").views.agg([])"
   ]
  },
  {
   "cell_type": "markdown",
   "id": "2db6b9e9-190b-41d3-bbb1-d07f61030599",
   "metadata": {},
   "source": [
    "-------\n",
    "# boat_type\n"
   ]
  },
  {
   "cell_type": "code",
   "execution_count": 11,
   "id": "2e4e3b43-b863-44f3-b350-7f095e477718",
   "metadata": {},
   "outputs": [],
   "source": [
    "df.boat_type = df.boat_type.str.split(\",\",expand=True)[0]"
   ]
  },
  {
   "cell_type": "code",
   "execution_count": 12,
   "id": "a6575964-6395-4b68-b150-5d620947afd2",
   "metadata": {},
   "outputs": [
    {
     "data": {
      "image/png": "[encoded data removed]",
      "text/plain": [
       "<Figure size 432x288 with 1 Axes>"
      ]
     },
     "metadata": {
      "needs_background": "light"
     },
     "output_type": "display_data"
    }
   ],
   "source": [
    "df.groupby(\"boat_type\").views.mean()[:5].sort_values(ascending=False).plot(kind=\"bar\");"
   ]
  },
  {
   "cell_type": "code",
   "execution_count": 13,
   "id": "6254acbb-2c57-4a23-9764-361e32b0410b",
   "metadata": {},
   "outputs": [
    {
     "data": {
      "text/html": [
       "<div>\n",
       "<style scoped>\n",
       "    .dataframe tbody tr th:only-of-type {\n",
       "        vertical-align: middle;\n",
       "    }\n",
       "\n",
       "    .dataframe tbody tr th {\n",
       "        vertical-align: top;\n",
       "    }\n",
       "\n",
       "    .dataframe thead th {\n",
       "        text-align: right;\n",
       "    }\n",
       "</style>\n",
       "<table border=\"1\" class=\"dataframe\">\n",
       "  <thead>\n",
       "    <tr style=\"text-align: right;\">\n",
       "      <th></th>\n",
       "      <th>boat_type</th>\n",
       "      <th>income_group</th>\n",
       "      <th>views</th>\n",
       "    </tr>\n",
       "  </thead>\n",
       "  <tbody>\n",
       "    <tr>\n",
       "      <th>0</th>\n",
       "      <td>Bowrider</td>\n",
       "      <td>1k-10k</td>\n",
       "      <td>477.333333</td>\n",
       "    </tr>\n",
       "    <tr>\n",
       "      <th>1</th>\n",
       "      <td>Bowrider</td>\n",
       "      <td>10k-100k</td>\n",
       "      <td>160.333333</td>\n",
       "    </tr>\n",
       "    <tr>\n",
       "      <th>2</th>\n",
       "      <td>Bowrider</td>\n",
       "      <td>100k-200k</td>\n",
       "      <td>232.760000</td>\n",
       "    </tr>\n",
       "    <tr>\n",
       "      <th>3</th>\n",
       "      <td>Bowrider</td>\n",
       "      <td>200k-500k</td>\n",
       "      <td>292.500000</td>\n",
       "    </tr>\n",
       "    <tr>\n",
       "      <th>4</th>\n",
       "      <td>Bowrider</td>\n",
       "      <td>500k+</td>\n",
       "      <td>NaN</td>\n",
       "    </tr>\n",
       "    <tr>\n",
       "      <th>...</th>\n",
       "      <td>...</td>\n",
       "      <td>...</td>\n",
       "      <td>...</td>\n",
       "    </tr>\n",
       "    <tr>\n",
       "      <th>125</th>\n",
       "      <td>Working Boat</td>\n",
       "      <td>1k-10k</td>\n",
       "      <td>104.833333</td>\n",
       "    </tr>\n",
       "    <tr>\n",
       "      <th>126</th>\n",
       "      <td>Working Boat</td>\n",
       "      <td>10k-100k</td>\n",
       "      <td>154.687500</td>\n",
       "    </tr>\n",
       "    <tr>\n",
       "      <th>127</th>\n",
       "      <td>Working Boat</td>\n",
       "      <td>100k-200k</td>\n",
       "      <td>119.800000</td>\n",
       "    </tr>\n",
       "    <tr>\n",
       "      <th>128</th>\n",
       "      <td>Working Boat</td>\n",
       "      <td>200k-500k</td>\n",
       "      <td>NaN</td>\n",
       "    </tr>\n",
       "    <tr>\n",
       "      <th>129</th>\n",
       "      <td>Working Boat</td>\n",
       "      <td>500k+</td>\n",
       "      <td>135.000000</td>\n",
       "    </tr>\n",
       "  </tbody>\n",
       "</table>\n",
       "<p>130 rows × 3 columns</p>\n",
       "</div>"
      ],
      "text/plain": [
       "        boat_type income_group       views\n",
       "0        Bowrider       1k-10k  477.333333\n",
       "1        Bowrider     10k-100k  160.333333\n",
       "2        Bowrider    100k-200k  232.760000\n",
       "3        Bowrider    200k-500k  292.500000\n",
       "4        Bowrider        500k+         NaN\n",
       "..            ...          ...         ...\n",
       "125  Working Boat       1k-10k  104.833333\n",
       "126  Working Boat     10k-100k  154.687500\n",
       "127  Working Boat    100k-200k  119.800000\n",
       "128  Working Boat    200k-500k         NaN\n",
       "129  Working Boat        500k+  135.000000\n",
       "\n",
       "[130 rows x 3 columns]"
      ]
     },
     "execution_count": 13,
     "metadata": {},
     "output_type": "execute_result"
    }
   ],
   "source": [
    "top_5_types = df.groupby(\"boat_type\").views.mean()[:5].index\n",
    "new_df = df.groupby([\"boat_type\",\"income_group\"]).views.mean().to_frame().reset_index()\n",
    "new_df"
   ]
  },
  {
   "cell_type": "code",
   "execution_count": 32,
   "id": "7525d5d7-8429-4813-938d-d3d3d44cf5ea",
   "metadata": {},
   "outputs": [
    {
     "data": {
      "text/html": [
       "<div>\n",
       "<style scoped>\n",
       "    .dataframe tbody tr th:only-of-type {\n",
       "        vertical-align: middle;\n",
       "    }\n",
       "\n",
       "    .dataframe tbody tr th {\n",
       "        vertical-align: top;\n",
       "    }\n",
       "\n",
       "    .dataframe thead th {\n",
       "        text-align: right;\n",
       "    }\n",
       "</style>\n",
       "<table border=\"1\" class=\"dataframe\">\n",
       "  <thead>\n",
       "    <tr style=\"text-align: right;\">\n",
       "      <th></th>\n",
       "      <th>boat_type</th>\n",
       "      <th>income_group</th>\n",
       "      <th>views</th>\n",
       "    </tr>\n",
       "  </thead>\n",
       "  <tbody>\n",
       "    <tr>\n",
       "      <th>0</th>\n",
       "      <td>Bowrider</td>\n",
       "      <td>1k-10k</td>\n",
       "      <td>477.333333</td>\n",
       "    </tr>\n",
       "    <tr>\n",
       "      <th>1</th>\n",
       "      <td>Bowrider</td>\n",
       "      <td>10k-100k</td>\n",
       "      <td>160.333333</td>\n",
       "    </tr>\n",
       "    <tr>\n",
       "      <th>2</th>\n",
       "      <td>Bowrider</td>\n",
       "      <td>100k-200k</td>\n",
       "      <td>232.760000</td>\n",
       "    </tr>\n",
       "    <tr>\n",
       "      <th>3</th>\n",
       "      <td>Bowrider</td>\n",
       "      <td>200k-500k</td>\n",
       "      <td>292.500000</td>\n",
       "    </tr>\n",
       "    <tr>\n",
       "      <th>4</th>\n",
       "      <td>Bowrider</td>\n",
       "      <td>500k+</td>\n",
       "      <td>NaN</td>\n",
       "    </tr>\n",
       "    <tr>\n",
       "      <th>5</th>\n",
       "      <td>Cabin Boat</td>\n",
       "      <td>1k-10k</td>\n",
       "      <td>418.434783</td>\n",
       "    </tr>\n",
       "    <tr>\n",
       "      <th>6</th>\n",
       "      <td>Cabin Boat</td>\n",
       "      <td>10k-100k</td>\n",
       "      <td>240.140039</td>\n",
       "    </tr>\n",
       "    <tr>\n",
       "      <th>7</th>\n",
       "      <td>Cabin Boat</td>\n",
       "      <td>100k-200k</td>\n",
       "      <td>211.471429</td>\n",
       "    </tr>\n",
       "    <tr>\n",
       "      <th>8</th>\n",
       "      <td>Cabin Boat</td>\n",
       "      <td>200k-500k</td>\n",
       "      <td>228.035714</td>\n",
       "    </tr>\n",
       "    <tr>\n",
       "      <th>9</th>\n",
       "      <td>Cabin Boat</td>\n",
       "      <td>500k+</td>\n",
       "      <td>191.666667</td>\n",
       "    </tr>\n",
       "    <tr>\n",
       "      <th>10</th>\n",
       "      <td>Catamaran</td>\n",
       "      <td>1k-10k</td>\n",
       "      <td>309.500000</td>\n",
       "    </tr>\n",
       "    <tr>\n",
       "      <th>11</th>\n",
       "      <td>Catamaran</td>\n",
       "      <td>10k-100k</td>\n",
       "      <td>377.000000</td>\n",
       "    </tr>\n",
       "    <tr>\n",
       "      <th>12</th>\n",
       "      <td>Catamaran</td>\n",
       "      <td>100k-200k</td>\n",
       "      <td>256.000000</td>\n",
       "    </tr>\n",
       "    <tr>\n",
       "      <th>13</th>\n",
       "      <td>Catamaran</td>\n",
       "      <td>200k-500k</td>\n",
       "      <td>114.416667</td>\n",
       "    </tr>\n",
       "    <tr>\n",
       "      <th>14</th>\n",
       "      <td>Catamaran</td>\n",
       "      <td>500k+</td>\n",
       "      <td>145.875000</td>\n",
       "    </tr>\n",
       "    <tr>\n",
       "      <th>15</th>\n",
       "      <td>Center console boat</td>\n",
       "      <td>1k-10k</td>\n",
       "      <td>185.800000</td>\n",
       "    </tr>\n",
       "    <tr>\n",
       "      <th>16</th>\n",
       "      <td>Center console boat</td>\n",
       "      <td>10k-100k</td>\n",
       "      <td>100.402027</td>\n",
       "    </tr>\n",
       "    <tr>\n",
       "      <th>17</th>\n",
       "      <td>Center console boat</td>\n",
       "      <td>100k-200k</td>\n",
       "      <td>91.840909</td>\n",
       "    </tr>\n",
       "    <tr>\n",
       "      <th>18</th>\n",
       "      <td>Center console boat</td>\n",
       "      <td>200k-500k</td>\n",
       "      <td>94.312500</td>\n",
       "    </tr>\n",
       "    <tr>\n",
       "      <th>19</th>\n",
       "      <td>Center console boat</td>\n",
       "      <td>500k+</td>\n",
       "      <td>111.000000</td>\n",
       "    </tr>\n",
       "    <tr>\n",
       "      <th>20</th>\n",
       "      <td>Classic</td>\n",
       "      <td>1k-10k</td>\n",
       "      <td>311.428571</td>\n",
       "    </tr>\n",
       "    <tr>\n",
       "      <th>21</th>\n",
       "      <td>Classic</td>\n",
       "      <td>10k-100k</td>\n",
       "      <td>264.157534</td>\n",
       "    </tr>\n",
       "    <tr>\n",
       "      <th>22</th>\n",
       "      <td>Classic</td>\n",
       "      <td>100k-200k</td>\n",
       "      <td>191.677419</td>\n",
       "    </tr>\n",
       "    <tr>\n",
       "      <th>23</th>\n",
       "      <td>Classic</td>\n",
       "      <td>200k-500k</td>\n",
       "      <td>237.687500</td>\n",
       "    </tr>\n",
       "    <tr>\n",
       "      <th>24</th>\n",
       "      <td>Classic</td>\n",
       "      <td>500k+</td>\n",
       "      <td>339.333333</td>\n",
       "    </tr>\n",
       "  </tbody>\n",
       "</table>\n",
       "</div>"
      ],
      "text/plain": [
       "              boat_type income_group       views\n",
       "0              Bowrider       1k-10k  477.333333\n",
       "1              Bowrider     10k-100k  160.333333\n",
       "2              Bowrider    100k-200k  232.760000\n",
       "3              Bowrider    200k-500k  292.500000\n",
       "4              Bowrider        500k+         NaN\n",
       "5            Cabin Boat       1k-10k  418.434783\n",
       "6            Cabin Boat     10k-100k  240.140039\n",
       "7            Cabin Boat    100k-200k  211.471429\n",
       "8            Cabin Boat    200k-500k  228.035714\n",
       "9            Cabin Boat        500k+  191.666667\n",
       "10            Catamaran       1k-10k  309.500000\n",
       "11            Catamaran     10k-100k  377.000000\n",
       "12            Catamaran    100k-200k  256.000000\n",
       "13            Catamaran    200k-500k  114.416667\n",
       "14            Catamaran        500k+  145.875000\n",
       "15  Center console boat       1k-10k  185.800000\n",
       "16  Center console boat     10k-100k  100.402027\n",
       "17  Center console boat    100k-200k   91.840909\n",
       "18  Center console boat    200k-500k   94.312500\n",
       "19  Center console boat        500k+  111.000000\n",
       "20              Classic       1k-10k  311.428571\n",
       "21              Classic     10k-100k  264.157534\n",
       "22              Classic    100k-200k  191.677419\n",
       "23              Classic    200k-500k  237.687500\n",
       "24              Classic        500k+  339.333333"
      ]
     },
     "execution_count": 32,
     "metadata": {},
     "output_type": "execute_result"
    }
   ],
   "source": [
    "new_df.query(\"boat_type in @top_5_types\")"
   ]
  },
  {
   "cell_type": "code",
   "execution_count": 31,
   "id": "453f35d0-a784-4633-9e87-869002ed4137",
   "metadata": {},
   "outputs": [
    {
     "name": "stderr",
     "output_type": "stream",
     "text": [
      "No handles with labels found to put in legend.\n"
     ]
    },
    {
     "data": {
      "text/plain": [
       "<matplotlib.legend.Legend at 0x1df53311880>"
      ]
     },
     "execution_count": 31,
     "metadata": {},
     "output_type": "execute_result"
    },
    {
     "data": {
      "image/png": "[encoded data removed]",
      "text/plain": [
       "<Figure size 720x720 with 1 Axes>"
      ]
     },
     "metadata": {
      "needs_background": "light"
     },
     "output_type": "display_data"
    }
   ],
   "source": [
    "fig,ax = plt.subplots(figsize=(10,10))\n",
    "\n",
    "sns.scatterplot(data= new_df.query(\"boat_type in @top_5_types\"), x=\"boat_type\",y=\"income_group\",size=\"views\",sizes=(1000,10000),legend=False, alpha=0.5)\n",
    "plt.legend()"
   ]
  },
  {
   "cell_type": "markdown",
   "id": "a534b2ad-bfdb-4cb9-ae22-c3071614445a",
   "metadata": {},
   "source": [
    "-------\n",
    "# year\n"
   ]
  },
  {
   "cell_type": "code",
   "execution_count": 16,
   "id": "7ec2da23-e63c-4a2e-9aa2-4b70735786b5",
   "metadata": {},
   "outputs": [
    {
     "ename": "ValueError",
     "evalue": "Could not interpret value `built_between` for parameter `hue`",
     "output_type": "error",
     "traceback": [
      "\u001b[1;31m---------------------------------------------------------------------------\u001b[0m",
      "\u001b[1;31mValueError\u001b[0m                                Traceback (most recent call last)",
      "\u001b[1;32m<ipython-input-16-e579ee20e249>\u001b[0m in \u001b[0;36m<module>\u001b[1;34m\u001b[0m\n\u001b[1;32m----> 1\u001b[1;33m \u001b[0msns\u001b[0m\u001b[1;33m.\u001b[0m\u001b[0mscatterplot\u001b[0m\u001b[1;33m(\u001b[0m\u001b[0mdata\u001b[0m\u001b[1;33m=\u001b[0m\u001b[0mdf\u001b[0m\u001b[1;33m,\u001b[0m \u001b[0mx\u001b[0m\u001b[1;33m=\u001b[0m\u001b[1;34m\"year_built\"\u001b[0m\u001b[1;33m,\u001b[0m\u001b[0my\u001b[0m\u001b[1;33m=\u001b[0m\u001b[1;34m\"views\"\u001b[0m\u001b[1;33m,\u001b[0m\u001b[0mhue\u001b[0m\u001b[1;33m=\u001b[0m\u001b[1;34m\"built_between\"\u001b[0m\u001b[1;33m)\u001b[0m\u001b[1;33m\u001b[0m\u001b[1;33m\u001b[0m\u001b[0m\n\u001b[0m",
      "\u001b[1;32m~\\anaconda3\\lib\\site-packages\\seaborn\\_decorators.py\u001b[0m in \u001b[0;36minner_f\u001b[1;34m(*args, **kwargs)\u001b[0m\n\u001b[0;32m     44\u001b[0m             )\n\u001b[0;32m     45\u001b[0m         \u001b[0mkwargs\u001b[0m\u001b[1;33m.\u001b[0m\u001b[0mupdate\u001b[0m\u001b[1;33m(\u001b[0m\u001b[1;33m{\u001b[0m\u001b[0mk\u001b[0m\u001b[1;33m:\u001b[0m \u001b[0marg\u001b[0m \u001b[1;32mfor\u001b[0m \u001b[0mk\u001b[0m\u001b[1;33m,\u001b[0m \u001b[0marg\u001b[0m \u001b[1;32min\u001b[0m \u001b[0mzip\u001b[0m\u001b[1;33m(\u001b[0m\u001b[0msig\u001b[0m\u001b[1;33m.\u001b[0m\u001b[0mparameters\u001b[0m\u001b[1;33m,\u001b[0m \u001b[0margs\u001b[0m\u001b[1;33m)\u001b[0m\u001b[1;33m}\u001b[0m\u001b[1;33m)\u001b[0m\u001b[1;33m\u001b[0m\u001b[1;33m\u001b[0m\u001b[0m\n\u001b[1;32m---> 46\u001b[1;33m         \u001b[1;32mreturn\u001b[0m \u001b[0mf\u001b[0m\u001b[1;33m(\u001b[0m\u001b[1;33m**\u001b[0m\u001b[0mkwargs\u001b[0m\u001b[1;33m)\u001b[0m\u001b[1;33m\u001b[0m\u001b[1;33m\u001b[0m\u001b[0m\n\u001b[0m\u001b[0;32m     47\u001b[0m     \u001b[1;32mreturn\u001b[0m \u001b[0minner_f\u001b[0m\u001b[1;33m\u001b[0m\u001b[1;33m\u001b[0m\u001b[0m\n\u001b[0;32m     48\u001b[0m \u001b[1;33m\u001b[0m\u001b[0m\n",
      "\u001b[1;32m~\\anaconda3\\lib\\site-packages\\seaborn\\relational.py\u001b[0m in \u001b[0;36mscatterplot\u001b[1;34m(x, y, hue, style, size, data, palette, hue_order, hue_norm, sizes, size_order, size_norm, markers, style_order, x_bins, y_bins, units, estimator, ci, n_boot, alpha, x_jitter, y_jitter, legend, ax, **kwargs)\u001b[0m\n\u001b[0;32m    799\u001b[0m \u001b[1;33m\u001b[0m\u001b[0m\n\u001b[0;32m    800\u001b[0m     \u001b[0mvariables\u001b[0m \u001b[1;33m=\u001b[0m \u001b[0m_ScatterPlotter\u001b[0m\u001b[1;33m.\u001b[0m\u001b[0mget_semantics\u001b[0m\u001b[1;33m(\u001b[0m\u001b[0mlocals\u001b[0m\u001b[1;33m(\u001b[0m\u001b[1;33m)\u001b[0m\u001b[1;33m)\u001b[0m\u001b[1;33m\u001b[0m\u001b[1;33m\u001b[0m\u001b[0m\n\u001b[1;32m--> 801\u001b[1;33m     p = _ScatterPlotter(\n\u001b[0m\u001b[0;32m    802\u001b[0m         \u001b[0mdata\u001b[0m\u001b[1;33m=\u001b[0m\u001b[0mdata\u001b[0m\u001b[1;33m,\u001b[0m \u001b[0mvariables\u001b[0m\u001b[1;33m=\u001b[0m\u001b[0mvariables\u001b[0m\u001b[1;33m,\u001b[0m\u001b[1;33m\u001b[0m\u001b[1;33m\u001b[0m\u001b[0m\n\u001b[0;32m    803\u001b[0m         \u001b[0mx_bins\u001b[0m\u001b[1;33m=\u001b[0m\u001b[0mx_bins\u001b[0m\u001b[1;33m,\u001b[0m \u001b[0my_bins\u001b[0m\u001b[1;33m=\u001b[0m\u001b[0my_bins\u001b[0m\u001b[1;33m,\u001b[0m\u001b[1;33m\u001b[0m\u001b[1;33m\u001b[0m\u001b[0m\n",
      "\u001b[1;32m~\\anaconda3\\lib\\site-packages\\seaborn\\relational.py\u001b[0m in \u001b[0;36m__init__\u001b[1;34m(self, data, variables, x_bins, y_bins, estimator, ci, n_boot, alpha, x_jitter, y_jitter, legend)\u001b[0m\n\u001b[0;32m    585\u001b[0m         )\n\u001b[0;32m    586\u001b[0m \u001b[1;33m\u001b[0m\u001b[0m\n\u001b[1;32m--> 587\u001b[1;33m         \u001b[0msuper\u001b[0m\u001b[1;33m(\u001b[0m\u001b[1;33m)\u001b[0m\u001b[1;33m.\u001b[0m\u001b[0m__init__\u001b[0m\u001b[1;33m(\u001b[0m\u001b[0mdata\u001b[0m\u001b[1;33m=\u001b[0m\u001b[0mdata\u001b[0m\u001b[1;33m,\u001b[0m \u001b[0mvariables\u001b[0m\u001b[1;33m=\u001b[0m\u001b[0mvariables\u001b[0m\u001b[1;33m)\u001b[0m\u001b[1;33m\u001b[0m\u001b[1;33m\u001b[0m\u001b[0m\n\u001b[0m\u001b[0;32m    588\u001b[0m \u001b[1;33m\u001b[0m\u001b[0m\n\u001b[0;32m    589\u001b[0m         \u001b[0mself\u001b[0m\u001b[1;33m.\u001b[0m\u001b[0malpha\u001b[0m \u001b[1;33m=\u001b[0m \u001b[0malpha\u001b[0m\u001b[1;33m\u001b[0m\u001b[1;33m\u001b[0m\u001b[0m\n",
      "\u001b[1;32m~\\anaconda3\\lib\\site-packages\\seaborn\\_core.py\u001b[0m in \u001b[0;36m__init__\u001b[1;34m(self, data, variables)\u001b[0m\n\u001b[0;32m    602\u001b[0m     \u001b[1;32mdef\u001b[0m \u001b[0m__init__\u001b[0m\u001b[1;33m(\u001b[0m\u001b[0mself\u001b[0m\u001b[1;33m,\u001b[0m \u001b[0mdata\u001b[0m\u001b[1;33m=\u001b[0m\u001b[1;32mNone\u001b[0m\u001b[1;33m,\u001b[0m \u001b[0mvariables\u001b[0m\u001b[1;33m=\u001b[0m\u001b[1;33m{\u001b[0m\u001b[1;33m}\u001b[0m\u001b[1;33m)\u001b[0m\u001b[1;33m:\u001b[0m\u001b[1;33m\u001b[0m\u001b[1;33m\u001b[0m\u001b[0m\n\u001b[0;32m    603\u001b[0m \u001b[1;33m\u001b[0m\u001b[0m\n\u001b[1;32m--> 604\u001b[1;33m         \u001b[0mself\u001b[0m\u001b[1;33m.\u001b[0m\u001b[0massign_variables\u001b[0m\u001b[1;33m(\u001b[0m\u001b[0mdata\u001b[0m\u001b[1;33m,\u001b[0m \u001b[0mvariables\u001b[0m\u001b[1;33m)\u001b[0m\u001b[1;33m\u001b[0m\u001b[1;33m\u001b[0m\u001b[0m\n\u001b[0m\u001b[0;32m    605\u001b[0m \u001b[1;33m\u001b[0m\u001b[0m\n\u001b[0;32m    606\u001b[0m         \u001b[1;32mfor\u001b[0m \u001b[0mvar\u001b[0m\u001b[1;33m,\u001b[0m \u001b[0mcls\u001b[0m \u001b[1;32min\u001b[0m \u001b[0mself\u001b[0m\u001b[1;33m.\u001b[0m\u001b[0m_semantic_mappings\u001b[0m\u001b[1;33m.\u001b[0m\u001b[0mitems\u001b[0m\u001b[1;33m(\u001b[0m\u001b[1;33m)\u001b[0m\u001b[1;33m:\u001b[0m\u001b[1;33m\u001b[0m\u001b[1;33m\u001b[0m\u001b[0m\n",
      "\u001b[1;32m~\\anaconda3\\lib\\site-packages\\seaborn\\_core.py\u001b[0m in \u001b[0;36massign_variables\u001b[1;34m(self, data, variables)\u001b[0m\n\u001b[0;32m    665\u001b[0m         \u001b[1;32melse\u001b[0m\u001b[1;33m:\u001b[0m\u001b[1;33m\u001b[0m\u001b[1;33m\u001b[0m\u001b[0m\n\u001b[0;32m    666\u001b[0m             \u001b[0mself\u001b[0m\u001b[1;33m.\u001b[0m\u001b[0minput_format\u001b[0m \u001b[1;33m=\u001b[0m \u001b[1;34m\"long\"\u001b[0m\u001b[1;33m\u001b[0m\u001b[1;33m\u001b[0m\u001b[0m\n\u001b[1;32m--> 667\u001b[1;33m             plot_data, variables = self._assign_variables_longform(\n\u001b[0m\u001b[0;32m    668\u001b[0m                 \u001b[0mdata\u001b[0m\u001b[1;33m,\u001b[0m \u001b[1;33m**\u001b[0m\u001b[0mvariables\u001b[0m\u001b[1;33m,\u001b[0m\u001b[1;33m\u001b[0m\u001b[1;33m\u001b[0m\u001b[0m\n\u001b[0;32m    669\u001b[0m             )\n",
      "\u001b[1;32m~\\anaconda3\\lib\\site-packages\\seaborn\\_core.py\u001b[0m in \u001b[0;36m_assign_variables_longform\u001b[1;34m(self, data, **kwargs)\u001b[0m\n\u001b[0;32m    900\u001b[0m \u001b[1;33m\u001b[0m\u001b[0m\n\u001b[0;32m    901\u001b[0m                 \u001b[0merr\u001b[0m \u001b[1;33m=\u001b[0m \u001b[1;34mf\"Could not interpret value `{val}` for parameter `{key}`\"\u001b[0m\u001b[1;33m\u001b[0m\u001b[1;33m\u001b[0m\u001b[0m\n\u001b[1;32m--> 902\u001b[1;33m                 \u001b[1;32mraise\u001b[0m \u001b[0mValueError\u001b[0m\u001b[1;33m(\u001b[0m\u001b[0merr\u001b[0m\u001b[1;33m)\u001b[0m\u001b[1;33m\u001b[0m\u001b[1;33m\u001b[0m\u001b[0m\n\u001b[0m\u001b[0;32m    903\u001b[0m \u001b[1;33m\u001b[0m\u001b[0m\n\u001b[0;32m    904\u001b[0m             \u001b[1;32melse\u001b[0m\u001b[1;33m:\u001b[0m\u001b[1;33m\u001b[0m\u001b[1;33m\u001b[0m\u001b[0m\n",
      "\u001b[1;31mValueError\u001b[0m: Could not interpret value `built_between` for parameter `hue`"
     ]
    }
   ],
   "source": [
    "sns.scatterplot(data=df, x=\"year_built\",y=\"views\",hue=\"built_between\")"
   ]
  },
  {
   "cell_type": "code",
   "execution_count": null,
   "id": "5c578a6d-a752-4ac4-b414-07821590cb97",
   "metadata": {},
   "outputs": [],
   "source": [
    "df[\"built_between\"] = pd.qcut(df.year_built.dt.year,q=3)"
   ]
  },
  {
   "cell_type": "code",
   "execution_count": null,
   "id": "7972dba7-3a34-41a5-9589-f29fbd1694da",
   "metadata": {},
   "outputs": [],
   "source": [
    "df.groupby(\"built_between\").views.mean().plot(kind=\"bar\")"
   ]
  },
  {
   "cell_type": "code",
   "execution_count": null,
   "id": "af9b905a-30c6-4ee2-ac22-9461765ba6ee",
   "metadata": {},
   "outputs": [],
   "source": [
    "df.built_between.value_counts()"
   ]
  },
  {
   "cell_type": "markdown",
   "id": "4d86683d-baf0-496e-aab0-9ee51e05dea4",
   "metadata": {},
   "source": [
    "-------\n",
    "# condition\n"
   ]
  },
  {
   "cell_type": "code",
   "execution_count": null,
   "id": "04440dfe-5238-4084-aac7-9958cdaeb163",
   "metadata": {},
   "outputs": [],
   "source": [
    "df.groupby(\"condition\")[\"views\"].mean().sort_values()"
   ]
  },
  {
   "cell_type": "code",
   "execution_count": null,
   "id": "1748042d-2bf5-4ac1-abe2-75dbc119da61",
   "metadata": {},
   "outputs": [],
   "source": [
    "order = df.groupby(\"condition\")[\"views\"].median().sort_values(ascending=True).index\n",
    "sns.boxplot(data=df,x=\"views\",y=\"condition\",showfliers=False, order=order);"
   ]
  },
  {
   "cell_type": "markdown",
   "id": "d3e9feb5-9623-434b-bade-a25bb1167bda",
   "metadata": {},
   "source": [
    "-------\n",
    "# Area\n"
   ]
  },
  {
   "cell_type": "code",
   "execution_count": null,
   "id": "24a759f1-81ba-4223-8b70-b74562c3e3e8",
   "metadata": {},
   "outputs": [],
   "source": [
    "df_area = df.dropna(subset=[\"width\",\"length\"])"
   ]
  },
  {
   "cell_type": "code",
   "execution_count": null,
   "id": "583c7423-2a26-48e8-8b84-0b91a2e9f494",
   "metadata": {},
   "outputs": [],
   "source": [
    "# [s = (0.127, 22.44] < m = (22.44, 49.354] < l = (49.354, 1078.8]]\n",
    "labels=[\"S\",\"M\",\"L\"]\n",
    "df_area[\"size\"] = pd.qcut(df_area.area,q=3,labels=labels)\n",
    "df_area[\"size\"]"
   ]
  },
  {
   "cell_type": "code",
   "execution_count": null,
   "id": "00684a1b-5fff-470a-b8a9-5591b2d1f7f7",
   "metadata": {},
   "outputs": [],
   "source": [
    "sns.scatterplot(data=df_area, x=\"length\",y=\"width\",hue=\"size\")"
   ]
  },
  {
   "cell_type": "code",
   "execution_count": null,
   "id": "87578a37-c191-497b-a6ad-8354e32c225b",
   "metadata": {},
   "outputs": [],
   "source": [
    "sns.barplot(x=\"size\",y=\"views\",data=df_area)"
   ]
  },
  {
   "cell_type": "markdown",
   "id": "9ed071f5-cdc8-4198-8149-e064ec00f236",
   "metadata": {},
   "source": [
    "-------\n",
    "# country\n"
   ]
  },
  {
   "cell_type": "code",
   "execution_count": null,
   "id": "e5837f7b-23b6-44c8-8c7d-d84e3659805a",
   "metadata": {},
   "outputs": [],
   "source": [
    "correct_countries = {\"Switzerland\" : [\"Welschenrohr\",\"Rolle\",\"Avenches\",\"Thalwil\",\"Thun\",\"Faoug\",\"VierwaldstÃ¤ttersee - Buochs\", \"Lake Geneva\"],\n",
    "'Germany' : [\"Neustadt in Holstein (Ostsee)\",\"Steinwiesen\",\"TravemÃ¼nde\",\"Rheinfelden\",\"Brandenburg\",\"Brandenburg an derHavel\",\"RÃ¼gen\",\"24782 BÃ¼delsdorf\",\"Greetsile/ KrummhÃ¶rn\",\"ZÃ¼richse, 8855 Wangen SZ\",\"baden baden\",\"Stralsund\",\"83278 Traunstein\",\"waren mÃ¼ritz\",\"Berlin Wannsee\",\"Barssel\",\"Beilngries\",\"Bielefeld\",\"Bremen\",\"Heilbronn\",\"Niederrhein\",\"Rostock\"\n",
    "             \"bodensee\",\"Lake Constance\"],\n",
    "'Italy' : [\"Lago Maggiore, Minusio\",\"Lago Maggiore\",\"lago maggiore\",\"Angera\",\"Tenero, lago Maggiore\",\"Lago di Garda\",\"Italien\",\"Adrai\",\"Italie\",\"Porto Rotondo\",\"Toscana\"],\n",
    "'Croatia' : [\"Croatia (Hrvatska)\",\"Split\",\"Kroatien Krk\",\"Novi Vinodolski\",\"Dalmatien\",\"Marina Punat\",\"Rovinij\"],\n",
    "'Denmark' : [\"Juelsminde Havn\",\"PT Ã¸stkysten ellers Esbjerg\"],\n",
    "'France' : [\"annecy\",\"French Southern Territories\",\"Martinique\"],\n",
    "'Belgium' : [\"Opwijk\",\"BelgiÃ«, Zulte\",\"Lommel\"],\n",
    "'Spain' : [\"Mallorca\",\"Calanova Mallorca\",\"espa?a\",\"Ibiza\"],\n",
    "'Netherlands' : [\"Wijdenes\",\"Zevenbergen\",\"Katwijk\"],\n",
    "'United_Kingdom' : [\"Isle of Man\",\"Jersey\"],\n",
    "'Slovenia' : [\"Izola\"],\n",
    "'Austria' : [\"Neusiedl am See\",\"FuÃach\"]}"
   ]
  },
  {
   "cell_type": "code",
   "execution_count": null,
   "id": "fd1fb726-cf5f-4037-a328-41d251e73b5e",
   "metadata": {},
   "outputs": [],
   "source": [
    "df.country.str.strip()\n",
    "for country, city in correct_countries.items() :\n",
    "    df.loc[df.country.isin(city),\"country\"] = str(country)"
   ]
  },
  {
   "cell_type": "code",
   "execution_count": null,
   "id": "111f1fd3-61e9-412b-98f6-1e6119d884cb",
   "metadata": {},
   "outputs": [],
   "source": [
    "df.country.nunique()"
   ]
  },
  {
   "cell_type": "code",
   "execution_count": null,
   "id": "a656ea8b-17e1-4e57-8421-2e389ffc1ac6",
   "metadata": {},
   "outputs": [],
   "source": [
    "df.country = df.country.str.strip()"
   ]
  },
  {
   "cell_type": "code",
   "execution_count": null,
   "id": "4128e942-30fc-4302-98bf-19ba77572450",
   "metadata": {},
   "outputs": [],
   "source": [
    "df.groupby(\"country\")[\"views\"].sum().sort_values(ascending=False)[:5].plot(kind=\"bar\")"
   ]
  },
  {
   "cell_type": "code",
   "execution_count": null,
   "id": "860f7811-a246-42ac-bdcd-d619b9edced0",
   "metadata": {},
   "outputs": [],
   "source": [
    "df_country = df.groupby(\"country\")[\"views\"].sum().to_frame().reset_index()"
   ]
  },
  {
   "cell_type": "code",
   "execution_count": null,
   "id": "dd84185a-e5ca-4216-992a-60a9f49a5b49",
   "metadata": {},
   "outputs": [],
   "source": [
    "import plotly.express as px\n",
    "\n",
    "fig = px.choropleth(df_country, locations='country', locationmode=\"country names\", color='views',\n",
    "                           color_continuous_scale=\"Viridis\", scope = \"europe\",height=800,width=1200\n",
    "                          )\n",
    "\n",
    "fig.show()"
   ]
  },
  {
   "cell_type": "code",
   "execution_count": null,
   "id": "bd5bb7d3-9c8d-41d3-b3ac-8d39c47d3aa3",
   "metadata": {},
   "outputs": [],
   "source": [
    "import plotly\n",
    "print(plotly.express.colors)"
   ]
  },
  {
   "cell_type": "code",
   "execution_count": null,
   "id": "a210c55f-5718-4102-9cdd-037a40439c82",
   "metadata": {},
   "outputs": [],
   "source": []
  }
 ],
 "metadata": {
  "kernelspec": {
   "display_name": "Python 3",
   "language": "python",
   "name": "python3"
  },
  "language_info": {
   "codemirror_mode": {
    "name": "ipython",
    "version": 3
   },
   "file_extension": ".py",
   "mimetype": "text/x-python",
   "name": "python",
   "nbconvert_exporter": "python",
   "pygments_lexer": "ipython3",
   "version": "3.8.10"
  }
 },
 "nbformat": 4,
 "nbformat_minor": 5
}
