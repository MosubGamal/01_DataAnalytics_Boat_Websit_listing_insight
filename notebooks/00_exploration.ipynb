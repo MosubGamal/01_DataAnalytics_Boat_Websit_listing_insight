{
 "cells": [
  {
   "cell_type": "markdown",
   "id": "ee84d79c-5a7f-4037-b4e7-fa6f11820e31",
   "metadata": {},
   "source": [
    "# Raw Data Exploration"
   ]
  },
  {
   "cell_type": "markdown",
   "id": "20982e40-dc6e-404f-974f-69152f4e9c26",
   "metadata": {},
   "source": [
    "## import the libraries "
   ]
  },
  {
   "cell_type": "code",
   "execution_count": 1,
   "id": "ca8c76b6-aa71-4ef0-ba5d-5f915cfdf52a",
   "metadata": {},
   "outputs": [],
   "source": [
    "# Declare variables\n",
    "DATA_PATH = r\"C:\\Users\\PC\\DataCamp\\Nautical_Boat_website\\nautical_boat_website\\data\\raw\\boat_data.csv\"\n",
    "DATA_LINK = \"https://s3.amazonaws.com/talent-assets.datacamp.com/boat_data.csv\"\n",
    "COL_UNIQUE_COUNT = [\"Boat Type\",\"Manufacturer\",\"Type\",\"Material\"]"
   ]
  },
  {
   "cell_type": "code",
   "execution_count": 2,
   "id": "a129a346-8685-4d5d-809c-dd0ad10d8908",
   "metadata": {},
   "outputs": [],
   "source": [
    "# import libraries\n",
    "import pandas as pd\n",
    "import matplotlib.pyplot as plt\n",
    "import seaborn as sns"
   ]
  },
  {
   "cell_type": "code",
   "execution_count": 10,
   "id": "4092b2b8-1f37-4ad6-a172-935e09c3e32e",
   "metadata": {
    "tags": []
   },
   "outputs": [],
   "source": [
    "raw_df = pd.read_csv(DATA_LINK,encoding='utf-8')"
   ]
  },
  {
   "cell_type": "markdown",
   "id": "642cd646-3854-4022-8141-2c25a6a6c771",
   "metadata": {},
   "source": [
    "## Raw data general infromation"
   ]
  },
  {
   "cell_type": "code",
   "execution_count": 11,
   "id": "5f1be940-57d4-4b2a-8353-5b8aa7e99716",
   "metadata": {},
   "outputs": [
    {
     "data": {
      "text/html": [
       "<div>\n",
       "<style scoped>\n",
       "    .dataframe tbody tr th:only-of-type {\n",
       "        vertical-align: middle;\n",
       "    }\n",
       "\n",
       "    .dataframe tbody tr th {\n",
       "        vertical-align: top;\n",
       "    }\n",
       "\n",
       "    .dataframe thead th {\n",
       "        text-align: right;\n",
       "    }\n",
       "</style>\n",
       "<table border=\"1\" class=\"dataframe\">\n",
       "  <thead>\n",
       "    <tr style=\"text-align: right;\">\n",
       "      <th></th>\n",
       "      <th>0</th>\n",
       "      <th>1</th>\n",
       "      <th>2</th>\n",
       "    </tr>\n",
       "  </thead>\n",
       "  <tbody>\n",
       "    <tr>\n",
       "      <th>Price</th>\n",
       "      <td>CHF 3337</td>\n",
       "      <td>EUR 3490</td>\n",
       "      <td>CHF 3770</td>\n",
       "    </tr>\n",
       "    <tr>\n",
       "      <th>Boat Type</th>\n",
       "      <td>Motor Yacht</td>\n",
       "      <td>Center console boat</td>\n",
       "      <td>Sport Boat</td>\n",
       "    </tr>\n",
       "    <tr>\n",
       "      <th>Manufacturer</th>\n",
       "      <td>Rigiflex power boats</td>\n",
       "      <td>Terhi power boats</td>\n",
       "      <td>Marine power boats</td>\n",
       "    </tr>\n",
       "    <tr>\n",
       "      <th>Type</th>\n",
       "      <td>new boat from stock</td>\n",
       "      <td>new boat from stock</td>\n",
       "      <td>new boat from stock</td>\n",
       "    </tr>\n",
       "    <tr>\n",
       "      <th>Year Built</th>\n",
       "      <td>2017</td>\n",
       "      <td>2020</td>\n",
       "      <td>0</td>\n",
       "    </tr>\n",
       "    <tr>\n",
       "      <th>Length</th>\n",
       "      <td>4.0</td>\n",
       "      <td>4.0</td>\n",
       "      <td>3.69</td>\n",
       "    </tr>\n",
       "    <tr>\n",
       "      <th>Width</th>\n",
       "      <td>1.9</td>\n",
       "      <td>1.5</td>\n",
       "      <td>1.42</td>\n",
       "    </tr>\n",
       "    <tr>\n",
       "      <th>Material</th>\n",
       "      <td>NaN</td>\n",
       "      <td>Thermoplastic</td>\n",
       "      <td>Aluminium</td>\n",
       "    </tr>\n",
       "    <tr>\n",
       "      <th>Location</th>\n",
       "      <td>Switzerland Â» Lake Geneva Â» VÃ©senaz</td>\n",
       "      <td>Germany Â» BÃ¶nningstedt</td>\n",
       "      <td>Switzerland Â» Lake of Zurich Â» StÃ¤fa ZH</td>\n",
       "    </tr>\n",
       "    <tr>\n",
       "      <th>Number of views last 7 days</th>\n",
       "      <td>226</td>\n",
       "      <td>75</td>\n",
       "      <td>124</td>\n",
       "    </tr>\n",
       "  </tbody>\n",
       "</table>\n",
       "</div>"
      ],
      "text/plain": [
       "                                                                  0  \\\n",
       "Price                                                      CHF 3337   \n",
       "Boat Type                                               Motor Yacht   \n",
       "Manufacturer                                   Rigiflex power boats   \n",
       "Type                                            new boat from stock   \n",
       "Year Built                                                     2017   \n",
       "Length                                                          4.0   \n",
       "Width                                                           1.9   \n",
       "Material                                                        NaN   \n",
       "Location                     Switzerland Â» Lake Geneva Â» VÃ©senaz   \n",
       "Number of views last 7 days                                     226   \n",
       "\n",
       "                                                    1  \\\n",
       "Price                                        EUR 3490   \n",
       "Boat Type                         Center console boat   \n",
       "Manufacturer                        Terhi power boats   \n",
       "Type                              new boat from stock   \n",
       "Year Built                                       2020   \n",
       "Length                                            4.0   \n",
       "Width                                             1.5   \n",
       "Material                                Thermoplastic   \n",
       "Location                     Germany Â» BÃ¶nningstedt   \n",
       "Number of views last 7 days                        75   \n",
       "\n",
       "                                                                      2  \n",
       "Price                                                          CHF 3770  \n",
       "Boat Type                                                    Sport Boat  \n",
       "Manufacturer                                         Marine power boats  \n",
       "Type                                                new boat from stock  \n",
       "Year Built                                                            0  \n",
       "Length                                                             3.69  \n",
       "Width                                                              1.42  \n",
       "Material                                                      Aluminium  \n",
       "Location                     Switzerland Â» Lake of Zurich Â» StÃ¤fa ZH  \n",
       "Number of views last 7 days                                         124  "
      ]
     },
     "execution_count": 11,
     "metadata": {},
     "output_type": "execute_result"
    }
   ],
   "source": [
    "# take a look into the data\n",
    "raw_df.head(3).transpose()"
   ]
  },
  {
   "cell_type": "code",
   "execution_count": 123,
   "id": "c1222bf4-1316-4e4e-92f8-61f5b2992fff",
   "metadata": {},
   "outputs": [
    {
     "data": {
      "text/plain": [
       "(9888, 10)"
      ]
     },
     "execution_count": 123,
     "metadata": {},
     "output_type": "execute_result"
    }
   ],
   "source": [
    "# the dataset shape\n",
    "raw_df.shape"
   ]
  },
  {
   "cell_type": "code",
   "execution_count": 124,
   "id": "89cebf8f-0505-4117-a1ac-1626d9749219",
   "metadata": {},
   "outputs": [
    {
     "name": "stdout",
     "output_type": "stream",
     "text": [
      "<class 'pandas.core.frame.DataFrame'>\n",
      "RangeIndex: 9888 entries, 0 to 9887\n",
      "Data columns (total 10 columns):\n",
      " #   Column                       Non-Null Count  Dtype  \n",
      "---  ------                       --------------  -----  \n",
      " 0   Price                        9888 non-null   object \n",
      " 1   Boat Type                    9888 non-null   object \n",
      " 2   Manufacturer                 8550 non-null   object \n",
      " 3   Type                         9882 non-null   object \n",
      " 4   Year Built                   9888 non-null   int64  \n",
      " 5   Length                       9879 non-null   float64\n",
      " 6   Width                        9832 non-null   float64\n",
      " 7   Material                     8139 non-null   object \n",
      " 8   Location                     9852 non-null   object \n",
      " 9   Number of views last 7 days  9888 non-null   int64  \n",
      "dtypes: float64(2), int64(2), object(6)\n",
      "memory usage: 772.6+ KB\n"
     ]
    }
   ],
   "source": [
    "# Get the data type of each column\n",
    "raw_df.info()"
   ]
  },
  {
   "cell_type": "code",
   "execution_count": 125,
   "id": "1c7017e1-7338-4b3a-a1cd-40bf6fde91ac",
   "metadata": {},
   "outputs": [
    {
     "name": "stdout",
     "output_type": "stream",
     "text": [
      "Column name :  Boat Type\n",
      "\n",
      "Number of unique :  126\n",
      "-------------------------\n",
      "\n",
      "Column name :  Manufacturer\n",
      "\n",
      "Number of unique :  910\n",
      "-------------------------\n",
      "\n",
      "Column name :  Type\n",
      "\n",
      "Number of unique :  24\n",
      "\n",
      "['new boat from stock', 'Used boat,Unleaded', 'Used boat', 'Used boat,Electric', 'new boat from stock,Unleaded', 'Used boat,Diesel', 'new boat on order', 'Unleaded', 'new boat on order,Unleaded', 'new boat from stock,Gas', 'Diesel', 'Display Model,Unleaded', 'Display Model', nan, 'Used boat,Gas', 'new boat from stock,Diesel', 'new boat from stock,Electric', 'new boat on order,Diesel', 'new boat from stock,Hybrid', 'Display Model,Diesel', 'Used boat,Hybrid', 'Display Model,Gas', 'Display Model,Electric', 'Electric', 'Used boat,Propane']\n",
      "-------------------------\n",
      "\n",
      "Column name :  Material\n",
      "\n",
      "Number of unique :  11\n",
      "\n",
      "[nan, 'Thermoplastic', 'Aluminium', 'GRP', 'PVC', 'Plastic', 'Wood', 'Steel', 'Hypalon', 'Carbon Fiber', 'Reinforced concrete', 'Rubber']\n",
      "-------------------------\n",
      "\n"
     ]
    }
   ],
   "source": [
    "# Exam number of unique values in each column\n",
    "for col in COL_UNIQUE_COUNT:\n",
    "    print(\"Column name : \", col)\n",
    "    print()\n",
    "    print(\"Number of unique : \",raw_df[col].nunique())\n",
    "    if raw_df[col].nunique() < 50 :\n",
    "        print()\n",
    "        print(raw_df[col].unique().tolist())\n",
    "    print(\"-------------------------\")\n",
    "    print()"
   ]
  },
  {
   "cell_type": "code",
   "execution_count": 126,
   "id": "66893610-a069-4f1e-9867-a53b91a754ab",
   "metadata": {},
   "outputs": [
    {
     "data": {
      "image/png": "[encoded data removed]",
      "text/plain": [
       "<Figure size 432x288 with 1 Axes>"
      ]
     },
     "metadata": {
      "needs_background": "light"
     },
     "output_type": "display_data"
    }
   ],
   "source": [
    "# Get number of missing values in each column\n",
    "raw_df.isna().sum().plot(kind=\"barh\");"
   ]
  },
  {
   "cell_type": "markdown",
   "id": "6e8de69a-0e58-4092-bead-dc7c9a3ade09",
   "metadata": {},
   "source": [
    "# Explore each column"
   ]
  },
  {
   "cell_type": "markdown",
   "id": "1893e893-2d4b-4548-8862-9df6fe901435",
   "metadata": {},
   "source": [
    "## Explore `TOP 10` Boat Type"
   ]
  },
  {
   "cell_type": "code",
   "execution_count": 91,
   "id": "ac55bbba-b812-4a60-a89f-c4bf2bb98198",
   "metadata": {},
   "outputs": [
    {
     "data": {
      "image/png": "[encoded data removed]",
      "text/plain": [
       "<Figure size 432x288 with 1 Axes>"
      ]
     },
     "metadata": {
      "needs_background": "light"
     },
     "output_type": "display_data"
    }
   ],
   "source": [
    "raw_df[\"Boat Type\"].value_counts()[:10].plot(kind=\"barh\");"
   ]
  },
  {
   "cell_type": "markdown",
   "id": "33afb452-17ca-4607-9d88-925912650c98",
   "metadata": {},
   "source": [
    "## Explore `TOP 10` Manufacturers"
   ]
  },
  {
   "cell_type": "code",
   "execution_count": 18,
   "id": "97ac3463-2bbe-4c79-8bcd-f4cfc11d9f50",
   "metadata": {},
   "outputs": [
    {
     "data": {
      "image/png": "[encoded data removed]",
      "text/plain": [
       "<Figure size 432x288 with 1 Axes>"
      ]
     },
     "metadata": {
      "needs_background": "light"
     },
     "output_type": "display_data"
    }
   ],
   "source": [
    "raw_df[\"Manufacturer\"].value_counts()[:10].plot(kind=\"barh\");"
   ]
  },
  {
   "cell_type": "markdown",
   "id": "9723aa2a-2c7c-4ad1-8d11-a34fa87d8b02",
   "metadata": {},
   "source": [
    "## Explore Type column"
   ]
  },
  {
   "cell_type": "code",
   "execution_count": 20,
   "id": "febc3e16-0793-48c8-ba1a-621c74dd4475",
   "metadata": {},
   "outputs": [
    {
     "data": {
      "image/png": "[encoded data removed]",
      "text/plain": [
       "<Figure size 432x288 with 1 Axes>"
      ]
     },
     "metadata": {
      "needs_background": "light"
     },
     "output_type": "display_data"
    }
   ],
   "source": [
    "raw_df[\"Type\"].value_counts().plot(kind=\"barh\");"
   ]
  },
  {
   "cell_type": "markdown",
   "id": "b8c9fbdd-b427-44bd-92d8-2cf50f84e320",
   "metadata": {},
   "source": [
    "## Explore Year Built\n",
    "we see that there are about 500 point with built in year 0"
   ]
  },
  {
   "cell_type": "code",
   "execution_count": 139,
   "id": "ab692070-b277-4bf8-b19a-83e7b50d623c",
   "metadata": {},
   "outputs": [
    {
     "data": {
      "image/png": "[encoded data removed]",
      "text/plain": [
       "<Figure size 1440x720 with 1 Axes>"
      ]
     },
     "metadata": {
      "needs_background": "light"
     },
     "output_type": "display_data"
    }
   ],
   "source": [
    "raw_df[\"Year Built\"].value_counts().sort_index().plot(kind=\"bar\",figsize=(20,10));"
   ]
  },
  {
   "cell_type": "code",
   "execution_count": 66,
   "id": "b789ffff-d7e9-4cf2-bd5c-05a5a00336fb",
   "metadata": {},
   "outputs": [
    {
     "data": {
      "text/plain": [
       "count    9888.000000\n",
       "mean     1893.192860\n",
       "std       460.201582\n",
       "min         0.000000\n",
       "25%      1996.000000\n",
       "50%      2007.000000\n",
       "75%      2017.000000\n",
       "max      2021.000000\n",
       "Name: Year Built, dtype: float64"
      ]
     },
     "execution_count": 66,
     "metadata": {},
     "output_type": "execute_result"
    }
   ],
   "source": [
    "raw_df[\"Year Built\"].describe()"
   ]
  },
  {
   "cell_type": "markdown",
   "id": "bd23effb-6f69-4f34-9dae-a3ff2eff8cae",
   "metadata": {},
   "source": [
    "## Explore Length"
   ]
  },
  {
   "cell_type": "code",
   "execution_count": 128,
   "id": "f2f1eace-6ff1-4d0a-b876-de7ee065e2b8",
   "metadata": {},
   "outputs": [
    {
     "data": {
      "image/png": "[encoded data removed]",
      "text/plain": [
       "<Figure size 432x288 with 1 Axes>"
      ]
     },
     "metadata": {
      "needs_background": "light"
     },
     "output_type": "display_data"
    }
   ],
   "source": [
    "# See all data in a histogram, log scale\n",
    "raw_df.Length.hist(bins=40,log=True);"
   ]
  },
  {
   "cell_type": "code",
   "execution_count": 101,
   "id": "76ab7d25-daa8-43f3-b30b-11bc216cbae4",
   "metadata": {},
   "outputs": [
    {
     "data": {
      "text/plain": [
       "<matplotlib.lines.Line2D at 0x23c3721a850>"
      ]
     },
     "execution_count": 101,
     "metadata": {},
     "output_type": "execute_result"
    },
    {
     "data": {
      "image/png": "[encoded data removed]",
      "text/plain": [
       "<Figure size 432x288 with 1 Axes>"
      ]
     },
     "metadata": {
      "needs_background": "light"
     },
     "output_type": "display_data"
    }
   ],
   "source": [
    "# Zoom in 40 meters and the median of all data\n",
    "raw_df.Length.hist(bins=40)\n",
    "plt.xlim(1,40)\n",
    "plt.axvline(raw_df.Length.median(),c=\"r\")"
   ]
  },
  {
   "cell_type": "markdown",
   "id": "ca91b5f3-755e-4f8a-bcaa-fd6b46aa8ec2",
   "metadata": {},
   "source": [
    "## Explore Width"
   ]
  },
  {
   "cell_type": "code",
   "execution_count": 12,
   "id": "6704482d-b74c-4102-8f4e-c747f165599e",
   "metadata": {},
   "outputs": [
    {
     "data": {
      "text/plain": [
       "<matplotlib.lines.Line2D at 0x2324f21e220>"
      ]
     },
     "execution_count": 12,
     "metadata": {},
     "output_type": "execute_result"
    },
    {
     "data": {
      "image/png": "[encoded data removed]",
      "text/plain": [
       "<Figure size 432x288 with 1 Axes>"
      ]
     },
     "metadata": {
      "needs_background": "light"
     },
     "output_type": "display_data"
    }
   ],
   "source": [
    "raw_df.Width.hist(bins=40)\n",
    "#plt.xlim(1,40)\n",
    "plt.axvline(raw_df.Width.median(),c=\"r\")"
   ]
  },
  {
   "cell_type": "markdown",
   "id": "16761af8-0c8b-4cad-8028-dad2ec040dbb",
   "metadata": {},
   "source": [
    "## Explore Material"
   ]
  },
  {
   "cell_type": "code",
   "execution_count": 74,
   "id": "bef8b888-0a36-44c2-a50c-542f5cd875fa",
   "metadata": {},
   "outputs": [
    {
     "data": {
      "image/png": "[encoded data removed]",
      "text/plain": [
       "<Figure size 432x288 with 1 Axes>"
      ]
     },
     "metadata": {
      "needs_background": "light"
     },
     "output_type": "display_data"
    }
   ],
   "source": [
    "order = raw_df.Material.value_counts().index\n",
    "sns.countplot(data=raw_df,y='Material',order=order);"
   ]
  },
  {
   "cell_type": "markdown",
   "id": "86de8ff0-7bf3-4c2e-b0b2-b1ad4286b6a0",
   "metadata": {},
   "source": [
    "## Explore Location"
   ]
  },
  {
   "cell_type": "code",
   "execution_count": 129,
   "id": "82f3c650-9dae-4bdb-8751-cb111586de40",
   "metadata": {},
   "outputs": [
    {
     "data": {
      "image/png": "[encoded data removed]",
      "text/plain": [
       "<Figure size 432x288 with 1 Axes>"
      ]
     },
     "metadata": {
      "needs_background": "light"
     },
     "output_type": "display_data"
    }
   ],
   "source": [
    "# Split the location column to country and location\n",
    "raw_df[[\"country\",\"location\"]] = raw_df.Location.str.split(\"Â»\",1,expand=True)\n",
    "\n",
    "# Plot the top 10 countries\n",
    "raw_df.country.value_counts()[:10].plot(kind=\"bar\");"
   ]
  },
  {
   "cell_type": "markdown",
   "id": "24b620fd-9e28-47f1-9f44-98674a450bff",
   "metadata": {},
   "source": [
    "## Explore Number of views last 7 days"
   ]
  },
  {
   "cell_type": "code",
   "execution_count": 131,
   "id": "b11c57f2-2db9-4ded-af09-27c921891d75",
   "metadata": {},
   "outputs": [
    {
     "data": {
      "image/png": "[encoded data removed]",
      "text/plain": [
       "<Figure size 432x288 with 1 Axes>"
      ]
     },
     "metadata": {
      "needs_background": "light"
     },
     "output_type": "display_data"
    }
   ],
   "source": [
    "# Get the histogram in log scale\n",
    "raw_df[\"Number of views last 7 days\"].hist(bins=20,log=True,label=\"Number of views last 7 days\");"
   ]
  },
  {
   "cell_type": "markdown",
   "id": "71a4fdb5-3e8c-4a56-bffe-bfbf1dd77880",
   "metadata": {},
   "source": [
    "## Explore Price"
   ]
  },
  {
   "cell_type": "code",
   "execution_count": 132,
   "id": "ac4f0558-11ad-4788-9b8c-ffe8ab4705a1",
   "metadata": {},
   "outputs": [
    {
     "data": {
      "text/html": [
       "<div>\n",
       "<style scoped>\n",
       "    .dataframe tbody tr th:only-of-type {\n",
       "        vertical-align: middle;\n",
       "    }\n",
       "\n",
       "    .dataframe tbody tr th {\n",
       "        vertical-align: top;\n",
       "    }\n",
       "\n",
       "    .dataframe thead th {\n",
       "        text-align: right;\n",
       "    }\n",
       "</style>\n",
       "<table border=\"1\" class=\"dataframe\">\n",
       "  <thead>\n",
       "    <tr style=\"text-align: right;\">\n",
       "      <th></th>\n",
       "      <th>currency</th>\n",
       "      <th>price</th>\n",
       "    </tr>\n",
       "  </thead>\n",
       "  <tbody>\n",
       "    <tr>\n",
       "      <th>0</th>\n",
       "      <td>CHF</td>\n",
       "      <td>3337</td>\n",
       "    </tr>\n",
       "    <tr>\n",
       "      <th>1</th>\n",
       "      <td>EUR</td>\n",
       "      <td>3490</td>\n",
       "    </tr>\n",
       "    <tr>\n",
       "      <th>2</th>\n",
       "      <td>CHF</td>\n",
       "      <td>3770</td>\n",
       "    </tr>\n",
       "    <tr>\n",
       "      <th>3</th>\n",
       "      <td>DKK</td>\n",
       "      <td>25900</td>\n",
       "    </tr>\n",
       "    <tr>\n",
       "      <th>4</th>\n",
       "      <td>EUR</td>\n",
       "      <td>3399</td>\n",
       "    </tr>\n",
       "  </tbody>\n",
       "</table>\n",
       "</div>"
      ],
      "text/plain": [
       "  currency  price\n",
       "0      CHF   3337\n",
       "1      EUR   3490\n",
       "2      CHF   3770\n",
       "3      DKK  25900\n",
       "4      EUR   3399"
      ]
     },
     "execution_count": 132,
     "metadata": {},
     "output_type": "execute_result"
    }
   ],
   "source": [
    "# Split the Price column to currency and price int\n",
    "raw_df[[\"currency\",\"price\"]] = raw_df.Price.str.split(\" \",expand=True)\n",
    "raw_df[[\"currency\",\"price\"]].head()"
   ]
  },
  {
   "cell_type": "code",
   "execution_count": 112,
   "id": "9b9a0900-00a0-4588-b5c9-59ee4865db41",
   "metadata": {},
   "outputs": [
    {
     "data": {
      "text/plain": [
       "array(['CHF', 'EUR', 'DKK', 'Â£'], dtype=object)"
      ]
     },
     "execution_count": 112,
     "metadata": {},
     "output_type": "execute_result"
    }
   ],
   "source": [
    "# Find the currency used in the website\n",
    "raw_df.currency.unique()"
   ]
  },
  {
   "cell_type": "code",
   "execution_count": 137,
   "id": "3cf22a81-ea5d-4269-b010-b46b518347c5",
   "metadata": {},
   "outputs": [
    {
     "data": {
      "text/html": [
       "<div>\n",
       "<style scoped>\n",
       "    .dataframe tbody tr th:only-of-type {\n",
       "        vertical-align: middle;\n",
       "    }\n",
       "\n",
       "    .dataframe tbody tr th {\n",
       "        vertical-align: top;\n",
       "    }\n",
       "\n",
       "    .dataframe thead th {\n",
       "        text-align: right;\n",
       "    }\n",
       "</style>\n",
       "<table border=\"1\" class=\"dataframe\">\n",
       "  <thead>\n",
       "    <tr style=\"text-align: right;\">\n",
       "      <th></th>\n",
       "      <th>Price</th>\n",
       "      <th>price</th>\n",
       "      <th>price_eur</th>\n",
       "    </tr>\n",
       "  </thead>\n",
       "  <tbody>\n",
       "    <tr>\n",
       "      <th>0</th>\n",
       "      <td>CHF 3337</td>\n",
       "      <td>3337</td>\n",
       "      <td>3403.74</td>\n",
       "    </tr>\n",
       "    <tr>\n",
       "      <th>1</th>\n",
       "      <td>EUR 3490</td>\n",
       "      <td>3490</td>\n",
       "      <td>3490.00</td>\n",
       "    </tr>\n",
       "    <tr>\n",
       "      <th>2</th>\n",
       "      <td>CHF 3770</td>\n",
       "      <td>3770</td>\n",
       "      <td>3845.40</td>\n",
       "    </tr>\n",
       "    <tr>\n",
       "      <th>3</th>\n",
       "      <td>DKK 25900</td>\n",
       "      <td>25900</td>\n",
       "      <td>3367.00</td>\n",
       "    </tr>\n",
       "    <tr>\n",
       "      <th>4</th>\n",
       "      <td>EUR 3399</td>\n",
       "      <td>3399</td>\n",
       "      <td>3399.00</td>\n",
       "    </tr>\n",
       "  </tbody>\n",
       "</table>\n",
       "</div>"
      ],
      "text/plain": [
       "       Price  price  price_eur\n",
       "0   CHF 3337   3337    3403.74\n",
       "1   EUR 3490   3490    3490.00\n",
       "2   CHF 3770   3770    3845.40\n",
       "3  DKK 25900  25900    3367.00\n",
       "4   EUR 3399   3399    3399.00"
      ]
     },
     "execution_count": 137,
     "metadata": {},
     "output_type": "execute_result"
    }
   ],
   "source": [
    "# Make the price uniform \n",
    "currency_conv = {'CHF':1.02, 'EUR':1, 'DKK':.13, 'Â£':1.18}\n",
    "raw_df.price = raw_df.price.astype(int)\n",
    "raw_df[\"price_eur\"] = raw_df.apply(lambda x : currency_conv[x[\"currency\"]] * x[\"price\"], axis=1)\n",
    "raw_df[[\"Price\",\"price\",\"price_eur\"]].head()"
   ]
  },
  {
   "cell_type": "code",
   "execution_count": 138,
   "id": "7f15670e-fa0f-4cf8-b5e7-55a2a3e15dc0",
   "metadata": {},
   "outputs": [
    {
     "data": {
      "text/plain": [
       "<AxesSubplot:>"
      ]
     },
     "execution_count": 138,
     "metadata": {},
     "output_type": "execute_result"
    },
    {
     "data": {
      "image/png": "[encoded data removed]",
      "text/plain": [
       "<Figure size 432x288 with 1 Axes>"
      ]
     },
     "metadata": {
      "needs_background": "light"
     },
     "output_type": "display_data"
    }
   ],
   "source": [
    "# Explore the distribution of prices on log scale\n",
    "raw_df[\"price_eur\"].hist(bins=50,log=True);"
   ]
  },
  {
   "cell_type": "code",
   "execution_count": 116,
   "id": "904c5de5-c6dd-40bc-a9f4-03e74f614212",
   "metadata": {},
   "outputs": [
    {
     "data": {
      "text/plain": [
       "<matplotlib.lines.Line2D at 0x23c37177dc0>"
      ]
     },
     "execution_count": 116,
     "metadata": {},
     "output_type": "execute_result"
    },
    {
     "data": {
      "image/png": "[encoded data removed]",
      "text/plain": [
       "<Figure size 432x288 with 1 Axes>"
      ]
     },
     "metadata": {
      "needs_background": "light"
     },
     "output_type": "display_data"
    }
   ],
   "source": [
    "# Explore the distribution of prices between 1000$ to 500,000$ \n",
    "raw_df[\"price_eur\"].hist(bins=50,range=(1000,500000))\n",
    "plt.axvline(raw_df[\"price_eur\"].median(),c=\"r\")"
   ]
  },
  {
   "cell_type": "markdown",
   "id": "ec1817f9-6a8a-4880-b0f5-8ef482dba9d9",
   "metadata": {},
   "source": [
    "## Problems\n",
    "* Price has the currency. Convert from object to int and use consistant currency\n",
    "* Location has a strange sample `Â»`.\n",
    "* Material and Manfucturing have a lot of missing data.\n",
    "* Year Built has 0 values, not null. Convert to datetime\n",
    "* Type column can be split into condition and fuel\n",
    "* Material and Type has a few unique values, so we can convert it to category"
   ]
  },
  {
   "cell_type": "code",
   "execution_count": 141,
   "id": "8517ef95-95a7-4b75-be1a-ff1801357df1",
   "metadata": {},
   "outputs": [
    {
     "data": {
      "text/plain": [
       "1474902"
      ]
     },
     "execution_count": 141,
     "metadata": {},
     "output_type": "execute_result"
    }
   ],
   "source": [
    "raw_df[\"Number of views last 7 days\"].sum()"
   ]
  },
  {
   "cell_type": "code",
   "execution_count": null,
   "id": "3b5f368a-ddf3-4e07-8483-86ac2eb526b9",
   "metadata": {},
   "outputs": [],
   "source": []
  }
 ],
 "metadata": {
  "kernelspec": {
   "display_name": "Python 3",
   "language": "python",
   "name": "python3"
  },
  "language_info": {
   "codemirror_mode": {
    "name": "ipython",
    "version": 3
   },
   "file_extension": ".py",
   "mimetype": "text/x-python",
   "name": "python",
   "nbconvert_exporter": "python",
   "pygments_lexer": "ipython3",
   "version": "3.8.10"
  }
 },
 "nbformat": 4,
 "nbformat_minor": 5
}
