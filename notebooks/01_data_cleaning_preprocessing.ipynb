{
 "cells": [
  {
   "cell_type": "markdown",
   "id": "8d7b9fa6-23d0-4b94-b28b-74b19f9a2df1",
   "metadata": {},
   "source": [
    "# Data Preprocessing & Cleaning"
   ]
  },
  {
   "cell_type": "markdown",
   "id": "e22022a7-45d9-41d1-8239-e39f69e8f65e",
   "metadata": {},
   "source": [
    "# The problems that the dataset have\n",
    "* Change the names to lower case and use _ instead of white space\n",
    "* Price has the currency. Convert from object to int and use consistant currency\n",
    "* Location has a strange sample `Â»`.\n",
    "* Material and Manfucturing have a lot of missing data.\n",
    "* Year Built has 0 values, not null. Convert to datetime\n",
    "* Type column can be split into condition and fuel\n",
    "* Material and Type has a few unique values, so we can convert it to category"
   ]
  },
  {
   "cell_type": "markdown",
   "id": "2cf039fe-6f2e-4c10-8f5f-3a0744a94fd6",
   "metadata": {},
   "source": [
    "## Import libraries and Dataset"
   ]
  },
  {
   "cell_type": "code",
   "execution_count": 137,
   "id": "c0dee9c0-cc63-4d62-92fa-fb063a8b2381",
   "metadata": {},
   "outputs": [],
   "source": [
    "# Declare variables\n",
    "DATA_PATH = r\"C:\\Users\\PC\\DataCamp\\Nautical_Boat_website\\nautical_boat_website\\data\\raw\\boat_data.csv\"\n",
    "DATA_LINK = \"https://s3.amazonaws.com/talent-assets.datacamp.com/boat_data.csv\"\n",
    "EXPROT_PATH = r\"C:\\Users\\PC\\DataCamp\\Nautical_Boat_website\\nautical_boat_website\\data\\processed\\boat_data_cleaned.pkl\"\n",
    "\n",
    "CUR = ['CHF', 'EUR', 'DKK', 'Â£']\n",
    "CUR_CONV = {'CHF':1.02, 'EUR':1, 'DKK':.13, 'Â£':1.18} \n",
    "\n",
    "UNCORRECT_TYPES = ['Unleaded', 'Diesel','Electric']"
   ]
  },
  {
   "cell_type": "code",
   "execution_count": 2,
   "id": "45678051-b8d8-4ef7-a92b-4b82898c254f",
   "metadata": {},
   "outputs": [],
   "source": [
    "# import libraries\n",
    "import numpy as np\n",
    "import pandas as pd\n",
    "import matplotlib.pyplot as plt\n",
    "import seaborn as sns"
   ]
  },
  {
   "cell_type": "code",
   "execution_count": 3,
   "id": "d7025fe4-a1a2-4dea-917c-eaf7b64a7b8f",
   "metadata": {
    "tags": []
   },
   "outputs": [],
   "source": [
    "raw_df = pd.read_csv(DATA_PATH)"
   ]
  },
  {
   "cell_type": "markdown",
   "id": "75f41bae-3976-4365-acdd-94bedfbb545c",
   "metadata": {},
   "source": [
    "## Problem 1:\n",
    "Change the names to lower case and use _ instead of white space"
   ]
  },
  {
   "cell_type": "code",
   "execution_count": 4,
   "id": "f03cdefd-089c-4636-b627-9b0586b06a4d",
   "metadata": {},
   "outputs": [
    {
     "data": {
      "text/plain": [
       "Index(['price', 'boat_type', 'manufacturer', 'type', 'year_built', 'length',\n",
       "       'width', 'material', 'location', 'views'],\n",
       "      dtype='object')"
      ]
     },
     "execution_count": 4,
     "metadata": {},
     "output_type": "execute_result"
    }
   ],
   "source": [
    "raw_df.columns = raw_df.columns.str.lower().str.replace(\" \",\"_\")\n",
    "raw_df.rename(columns={'number_of_views_last_7_days':\"views\"},inplace=True)\n",
    "raw_df.columns"
   ]
  },
  {
   "cell_type": "markdown",
   "id": "454738b4-9c0c-4d44-9d30-3d569f54fa68",
   "metadata": {},
   "source": [
    "## Problem 2:\n",
    "`price` has currency in the data field, so we have to separate the `currency` and `price_amount` then convert it into a consistant price in euros."
   ]
  },
  {
   "cell_type": "code",
   "execution_count": 5,
   "id": "c3601ef4-0815-4299-b710-dc14cf36e3b8",
   "metadata": {},
   "outputs": [
    {
     "data": {
      "text/html": [
       "<div>\n",
       "<style scoped>\n",
       "    .dataframe tbody tr th:only-of-type {\n",
       "        vertical-align: middle;\n",
       "    }\n",
       "\n",
       "    .dataframe tbody tr th {\n",
       "        vertical-align: top;\n",
       "    }\n",
       "\n",
       "    .dataframe thead th {\n",
       "        text-align: right;\n",
       "    }\n",
       "</style>\n",
       "<table border=\"1\" class=\"dataframe\">\n",
       "  <thead>\n",
       "    <tr style=\"text-align: right;\">\n",
       "      <th></th>\n",
       "      <th>currency</th>\n",
       "      <th>price_amount</th>\n",
       "    </tr>\n",
       "  </thead>\n",
       "  <tbody>\n",
       "    <tr>\n",
       "      <th>0</th>\n",
       "      <td>CHF</td>\n",
       "      <td>3337</td>\n",
       "    </tr>\n",
       "    <tr>\n",
       "      <th>1</th>\n",
       "      <td>EUR</td>\n",
       "      <td>3490</td>\n",
       "    </tr>\n",
       "    <tr>\n",
       "      <th>2</th>\n",
       "      <td>CHF</td>\n",
       "      <td>3770</td>\n",
       "    </tr>\n",
       "    <tr>\n",
       "      <th>3</th>\n",
       "      <td>DKK</td>\n",
       "      <td>25900</td>\n",
       "    </tr>\n",
       "    <tr>\n",
       "      <th>4</th>\n",
       "      <td>EUR</td>\n",
       "      <td>3399</td>\n",
       "    </tr>\n",
       "  </tbody>\n",
       "</table>\n",
       "</div>"
      ],
      "text/plain": [
       "  currency price_amount\n",
       "0      CHF         3337\n",
       "1      EUR         3490\n",
       "2      CHF         3770\n",
       "3      DKK        25900\n",
       "4      EUR         3399"
      ]
     },
     "execution_count": 5,
     "metadata": {},
     "output_type": "execute_result"
    }
   ],
   "source": [
    "# Split the Price column to currency and price int\n",
    "raw_df[[\"currency\",\"price_amount\"]] = raw_df.price.str.split(\" \",expand=True)\n",
    "raw_df[[\"currency\",\"price_amount\"]].head()"
   ]
  },
  {
   "cell_type": "code",
   "execution_count": 6,
   "id": "8de6395c-2a9a-4310-843a-dab5b6193cc0",
   "metadata": {},
   "outputs": [
    {
     "data": {
      "text/plain": [
       "array(['CHF', 'EUR', 'DKK', 'Â£'], dtype=object)"
      ]
     },
     "execution_count": 6,
     "metadata": {},
     "output_type": "execute_result"
    }
   ],
   "source": [
    "# Find the currency used in the website\n",
    "raw_df.currency.unique()\n",
    "\n",
    "# store it in the CUR variable"
   ]
  },
  {
   "cell_type": "code",
   "execution_count": 7,
   "id": "f6b33da5-a35e-4c35-8786-d1aa26f43c49",
   "metadata": {},
   "outputs": [
    {
     "data": {
      "text/html": [
       "<div>\n",
       "<style scoped>\n",
       "    .dataframe tbody tr th:only-of-type {\n",
       "        vertical-align: middle;\n",
       "    }\n",
       "\n",
       "    .dataframe tbody tr th {\n",
       "        vertical-align: top;\n",
       "    }\n",
       "\n",
       "    .dataframe thead th {\n",
       "        text-align: right;\n",
       "    }\n",
       "</style>\n",
       "<table border=\"1\" class=\"dataframe\">\n",
       "  <thead>\n",
       "    <tr style=\"text-align: right;\">\n",
       "      <th></th>\n",
       "      <th>price</th>\n",
       "      <th>price_amount</th>\n",
       "      <th>price_eur</th>\n",
       "    </tr>\n",
       "  </thead>\n",
       "  <tbody>\n",
       "    <tr>\n",
       "      <th>0</th>\n",
       "      <td>CHF 3337</td>\n",
       "      <td>3337</td>\n",
       "      <td>3403.74</td>\n",
       "    </tr>\n",
       "    <tr>\n",
       "      <th>1</th>\n",
       "      <td>EUR 3490</td>\n",
       "      <td>3490</td>\n",
       "      <td>3490.00</td>\n",
       "    </tr>\n",
       "    <tr>\n",
       "      <th>2</th>\n",
       "      <td>CHF 3770</td>\n",
       "      <td>3770</td>\n",
       "      <td>3845.40</td>\n",
       "    </tr>\n",
       "    <tr>\n",
       "      <th>3</th>\n",
       "      <td>DKK 25900</td>\n",
       "      <td>25900</td>\n",
       "      <td>3367.00</td>\n",
       "    </tr>\n",
       "    <tr>\n",
       "      <th>4</th>\n",
       "      <td>EUR 3399</td>\n",
       "      <td>3399</td>\n",
       "      <td>3399.00</td>\n",
       "    </tr>\n",
       "  </tbody>\n",
       "</table>\n",
       "</div>"
      ],
      "text/plain": [
       "       price  price_amount  price_eur\n",
       "0   CHF 3337          3337    3403.74\n",
       "1   EUR 3490          3490    3490.00\n",
       "2   CHF 3770          3770    3845.40\n",
       "3  DKK 25900         25900    3367.00\n",
       "4   EUR 3399          3399    3399.00"
      ]
     },
     "execution_count": 7,
     "metadata": {},
     "output_type": "execute_result"
    }
   ],
   "source": [
    "# Make the price uniform \n",
    "raw_df.price_amount = raw_df.price_amount.astype(int)\n",
    "raw_df[\"price_eur\"] = raw_df.apply(lambda x : CUR_CONV[x[\"currency\"]] * x[\"price_amount\"], axis=1)\n",
    "raw_df[[\"price\",\"price_amount\",\"price_eur\"]].head()"
   ]
  },
  {
   "cell_type": "code",
   "execution_count": 8,
   "id": "75ee0dc0-ae19-48d1-af4c-511b5c93c919",
   "metadata": {},
   "outputs": [
    {
     "data": {
      "text/plain": [
       "Index(['boat_type', 'manufacturer', 'type', 'year_built', 'length', 'width',\n",
       "       'material', 'location', 'views', 'price_eur'],\n",
       "      dtype='object')"
      ]
     },
     "execution_count": 8,
     "metadata": {},
     "output_type": "execute_result"
    }
   ],
   "source": [
    "# Drop the price, price amount and currency columns\n",
    "raw_df.drop(labels=['price','currency', 'price_amount'],axis=1,inplace=True)\n",
    "raw_df.columns"
   ]
  },
  {
   "cell_type": "code",
   "execution_count": 9,
   "id": "d0a9813e-707b-444f-95d9-c4c630fa8dc5",
   "metadata": {},
   "outputs": [
    {
     "data": {
      "text/html": [
       "<div>\n",
       "<style scoped>\n",
       "    .dataframe tbody tr th:only-of-type {\n",
       "        vertical-align: middle;\n",
       "    }\n",
       "\n",
       "    .dataframe tbody tr th {\n",
       "        vertical-align: top;\n",
       "    }\n",
       "\n",
       "    .dataframe thead th {\n",
       "        text-align: right;\n",
       "    }\n",
       "</style>\n",
       "<table border=\"1\" class=\"dataframe\">\n",
       "  <thead>\n",
       "    <tr style=\"text-align: right;\">\n",
       "      <th></th>\n",
       "      <th>price_eur</th>\n",
       "      <th>boat_type</th>\n",
       "      <th>manufacturer</th>\n",
       "      <th>type</th>\n",
       "      <th>year_built</th>\n",
       "      <th>length</th>\n",
       "      <th>width</th>\n",
       "      <th>material</th>\n",
       "      <th>location</th>\n",
       "      <th>views</th>\n",
       "    </tr>\n",
       "  </thead>\n",
       "  <tbody>\n",
       "    <tr>\n",
       "      <th>0</th>\n",
       "      <td>3403.74</td>\n",
       "      <td>Motor Yacht</td>\n",
       "      <td>Rigiflex power boats</td>\n",
       "      <td>new boat from stock</td>\n",
       "      <td>2017</td>\n",
       "      <td>4.00</td>\n",
       "      <td>1.90</td>\n",
       "      <td>NaN</td>\n",
       "      <td>Switzerland Â» Lake Geneva Â» VÃ©senaz</td>\n",
       "      <td>226</td>\n",
       "    </tr>\n",
       "    <tr>\n",
       "      <th>1</th>\n",
       "      <td>3490.00</td>\n",
       "      <td>Center console boat</td>\n",
       "      <td>Terhi power boats</td>\n",
       "      <td>new boat from stock</td>\n",
       "      <td>2020</td>\n",
       "      <td>4.00</td>\n",
       "      <td>1.50</td>\n",
       "      <td>Thermoplastic</td>\n",
       "      <td>Germany Â» BÃ¶nningstedt</td>\n",
       "      <td>75</td>\n",
       "    </tr>\n",
       "    <tr>\n",
       "      <th>2</th>\n",
       "      <td>3845.40</td>\n",
       "      <td>Sport Boat</td>\n",
       "      <td>Marine power boats</td>\n",
       "      <td>new boat from stock</td>\n",
       "      <td>0</td>\n",
       "      <td>3.69</td>\n",
       "      <td>1.42</td>\n",
       "      <td>Aluminium</td>\n",
       "      <td>Switzerland Â» Lake of Zurich Â» StÃ¤fa ZH</td>\n",
       "      <td>124</td>\n",
       "    </tr>\n",
       "    <tr>\n",
       "      <th>3</th>\n",
       "      <td>3367.00</td>\n",
       "      <td>Sport Boat</td>\n",
       "      <td>Pioner power boats</td>\n",
       "      <td>new boat from stock</td>\n",
       "      <td>2020</td>\n",
       "      <td>3.00</td>\n",
       "      <td>1.00</td>\n",
       "      <td>NaN</td>\n",
       "      <td>Denmark Â» Svendborg</td>\n",
       "      <td>64</td>\n",
       "    </tr>\n",
       "    <tr>\n",
       "      <th>4</th>\n",
       "      <td>3399.00</td>\n",
       "      <td>Fishing Boat</td>\n",
       "      <td>Linder power boats</td>\n",
       "      <td>new boat from stock</td>\n",
       "      <td>2019</td>\n",
       "      <td>3.55</td>\n",
       "      <td>1.46</td>\n",
       "      <td>Aluminium</td>\n",
       "      <td>Germany Â» Bayern Â» MÃ¼nchen</td>\n",
       "      <td>58</td>\n",
       "    </tr>\n",
       "  </tbody>\n",
       "</table>\n",
       "</div>"
      ],
      "text/plain": [
       "   price_eur            boat_type          manufacturer                 type  \\\n",
       "0    3403.74          Motor Yacht  Rigiflex power boats  new boat from stock   \n",
       "1    3490.00  Center console boat     Terhi power boats  new boat from stock   \n",
       "2    3845.40           Sport Boat    Marine power boats  new boat from stock   \n",
       "3    3367.00           Sport Boat    Pioner power boats  new boat from stock   \n",
       "4    3399.00         Fishing Boat    Linder power boats  new boat from stock   \n",
       "\n",
       "   year_built  length  width       material  \\\n",
       "0        2017    4.00   1.90            NaN   \n",
       "1        2020    4.00   1.50  Thermoplastic   \n",
       "2           0    3.69   1.42      Aluminium   \n",
       "3        2020    3.00   1.00            NaN   \n",
       "4        2019    3.55   1.46      Aluminium   \n",
       "\n",
       "                                     location  views  \n",
       "0      Switzerland Â» Lake Geneva Â» VÃ©senaz    226  \n",
       "1                    Germany Â» BÃ¶nningstedt     75  \n",
       "2  Switzerland Â» Lake of Zurich Â» StÃ¤fa ZH    124  \n",
       "3                        Denmark Â» Svendborg     64  \n",
       "4               Germany Â» Bayern Â» MÃ¼nchen     58  "
      ]
     },
     "execution_count": 9,
     "metadata": {},
     "output_type": "execute_result"
    }
   ],
   "source": [
    "# Put the price_eur column in the first \n",
    "raw_df.set_index(raw_df.columns[-1], inplace=True)\n",
    "raw_df.reset_index(inplace=True)\n",
    "raw_df.head()"
   ]
  },
  {
   "cell_type": "markdown",
   "id": "347eb085-ba4d-42ea-87d6-3571d1f66668",
   "metadata": {},
   "source": [
    "## Problem 3:\n",
    "`location` has a strange sample Â»."
   ]
  },
  {
   "cell_type": "code",
   "execution_count": 10,
   "id": "1b9a7a79-72e3-48e2-ab59-2cb5b18db240",
   "metadata": {},
   "outputs": [],
   "source": [
    "# Split the location column to country and location\n",
    "raw_df[[\"country\",\"waterway\"]]= raw_df.location.str.split(\"Â»\",expand=True).iloc[:,:2]"
   ]
  },
  {
   "cell_type": "code",
   "execution_count": 11,
   "id": "8a61f820-6bd3-426f-b22f-a50d17a80969",
   "metadata": {},
   "outputs": [
    {
     "data": {
      "text/html": [
       "<div>\n",
       "<style scoped>\n",
       "    .dataframe tbody tr th:only-of-type {\n",
       "        vertical-align: middle;\n",
       "    }\n",
       "\n",
       "    .dataframe tbody tr th {\n",
       "        vertical-align: top;\n",
       "    }\n",
       "\n",
       "    .dataframe thead th {\n",
       "        text-align: right;\n",
       "    }\n",
       "</style>\n",
       "<table border=\"1\" class=\"dataframe\">\n",
       "  <thead>\n",
       "    <tr style=\"text-align: right;\">\n",
       "      <th></th>\n",
       "      <th>price_eur</th>\n",
       "      <th>boat_type</th>\n",
       "      <th>manufacturer</th>\n",
       "      <th>type</th>\n",
       "      <th>year_built</th>\n",
       "      <th>length</th>\n",
       "      <th>width</th>\n",
       "      <th>material</th>\n",
       "      <th>location</th>\n",
       "      <th>views</th>\n",
       "      <th>country</th>\n",
       "      <th>waterway</th>\n",
       "    </tr>\n",
       "  </thead>\n",
       "  <tbody>\n",
       "    <tr>\n",
       "      <th>0</th>\n",
       "      <td>3403.74</td>\n",
       "      <td>Motor Yacht</td>\n",
       "      <td>Rigiflex power boats</td>\n",
       "      <td>new boat from stock</td>\n",
       "      <td>2017</td>\n",
       "      <td>4.0</td>\n",
       "      <td>1.9</td>\n",
       "      <td>NaN</td>\n",
       "      <td>Switzerland Â» Lake Geneva Â» VÃ©senaz</td>\n",
       "      <td>226</td>\n",
       "      <td>Switzerland</td>\n",
       "      <td>Lake Geneva</td>\n",
       "    </tr>\n",
       "  </tbody>\n",
       "</table>\n",
       "</div>"
      ],
      "text/plain": [
       "   price_eur    boat_type          manufacturer                 type  \\\n",
       "0    3403.74  Motor Yacht  Rigiflex power boats  new boat from stock   \n",
       "\n",
       "   year_built  length  width material                                location  \\\n",
       "0        2017     4.0    1.9      NaN  Switzerland Â» Lake Geneva Â» VÃ©senaz   \n",
       "\n",
       "   views       country       waterway  \n",
       "0    226  Switzerland    Lake Geneva   "
      ]
     },
     "metadata": {},
     "output_type": "display_data"
    },
    {
     "data": {
      "text/plain": [
       "country      36\n",
       "waterway    943\n",
       "dtype: int64"
      ]
     },
     "execution_count": 11,
     "metadata": {},
     "output_type": "execute_result"
    }
   ],
   "source": [
    "# cheak\n",
    "display(raw_df.head(1))\n",
    "\n",
    "# check null value\n",
    "raw_df[[\"country\",\"waterway\"]].isna().sum()"
   ]
  },
  {
   "cell_type": "markdown",
   "id": "017bd6d8-199f-4117-98e5-ac76ce85bcc5",
   "metadata": {},
   "source": [
    "## Problem 4:\n",
    "`material` and `manufacturer` have a lot of missing data"
   ]
  },
  {
   "cell_type": "code",
   "execution_count": 12,
   "id": "c370be03-5f60-4d08-9ed7-572ac5fc512d",
   "metadata": {},
   "outputs": [
    {
     "data": {
      "text/plain": [
       "manufacturer    1338\n",
       "material        1749\n",
       "dtype: int64"
      ]
     },
     "execution_count": 12,
     "metadata": {},
     "output_type": "execute_result"
    }
   ],
   "source": [
    "# See the number of null value \n",
    "raw_df[[\"manufacturer\",\"material\"]].isna().sum()"
   ]
  },
  {
   "cell_type": "code",
   "execution_count": 13,
   "id": "23e66768-719b-47a5-a540-d28fcf27eb0b",
   "metadata": {},
   "outputs": [],
   "source": [
    "# change missing for Manfucturing & Material to not defined\n",
    "raw_df.fillna(value={\"manufacturer\":\"not defined\",\"material\":\"not defined\"},inplace=True)"
   ]
  },
  {
   "cell_type": "code",
   "execution_count": 14,
   "id": "dfb2e61c-7f90-4784-8389-111818209719",
   "metadata": {},
   "outputs": [
    {
     "data": {
      "text/plain": [
       "manufacturer    0\n",
       "material        0\n",
       "dtype: int64"
      ]
     },
     "execution_count": 14,
     "metadata": {},
     "output_type": "execute_result"
    }
   ],
   "source": [
    "# Check\n",
    "raw_df[[\"manufacturer\",\"material\"]].isna().sum()"
   ]
  },
  {
   "cell_type": "markdown",
   "id": "91339ae4-1f2b-485f-b413-df5f64dc1435",
   "metadata": {},
   "source": [
    "## Problem 5:\n",
    "`year_built` has 0 values, not null.\\\n",
    "Convert to datetime"
   ]
  },
  {
   "cell_type": "code",
   "execution_count": 15,
   "id": "75d8b297-558e-4753-abe0-9a9b382be848",
   "metadata": {},
   "outputs": [
    {
     "data": {
      "text/plain": [
       "551"
      ]
     },
     "execution_count": 15,
     "metadata": {},
     "output_type": "execute_result"
    }
   ],
   "source": [
    "# Get the number of zero values \n",
    "raw_df.query(\"year_built == 0\").year_built.count()"
   ]
  },
  {
   "cell_type": "code",
   "execution_count": 16,
   "id": "f37e4d3c-4737-4d4d-aa37-71275571174d",
   "metadata": {},
   "outputs": [],
   "source": [
    "# Set the zero years value to nan\n",
    "raw_df.year_built.replace(to_replace=0,\n",
    "                value=np.nan,\n",
    "                inplace=True)"
   ]
  },
  {
   "cell_type": "code",
   "execution_count": 17,
   "id": "a2896ad3-f331-4e25-851d-88c5bf640fe5",
   "metadata": {},
   "outputs": [
    {
     "data": {
      "text/plain": [
       "551"
      ]
     },
     "execution_count": 17,
     "metadata": {},
     "output_type": "execute_result"
    }
   ],
   "source": [
    "# Check\n",
    "raw_df.year_built.isna().sum()"
   ]
  },
  {
   "cell_type": "code",
   "execution_count": 18,
   "id": "846a6168-0bc4-4429-b30d-35e9308d96be",
   "metadata": {},
   "outputs": [],
   "source": [
    "# Convert year_built to datetime \n",
    "raw_df.year_built = pd.to_datetime(raw_df.year_built,format=\"%Y\")"
   ]
  },
  {
   "cell_type": "code",
   "execution_count": 19,
   "id": "48b1b1f7-e6ac-4b4c-9a62-7e08016dee78",
   "metadata": {},
   "outputs": [
    {
     "name": "stdout",
     "output_type": "stream",
     "text": [
      "<class 'pandas.core.frame.DataFrame'>\n",
      "RangeIndex: 9888 entries, 0 to 9887\n",
      "Data columns (total 12 columns):\n",
      " #   Column        Non-Null Count  Dtype         \n",
      "---  ------        --------------  -----         \n",
      " 0   price_eur     9888 non-null   float64       \n",
      " 1   boat_type     9888 non-null   object        \n",
      " 2   manufacturer  9888 non-null   object        \n",
      " 3   type          9882 non-null   object        \n",
      " 4   year_built    9337 non-null   datetime64[ns]\n",
      " 5   length        9879 non-null   float64       \n",
      " 6   width         9832 non-null   float64       \n",
      " 7   material      9888 non-null   object        \n",
      " 8   location      9852 non-null   object        \n",
      " 9   views         9888 non-null   int64         \n",
      " 10  country       9852 non-null   object        \n",
      " 11  waterway      8945 non-null   object        \n",
      "dtypes: datetime64[ns](1), float64(3), int64(1), object(7)\n",
      "memory usage: 927.1+ KB\n"
     ]
    }
   ],
   "source": [
    "# Check\n",
    "raw_df.info()"
   ]
  },
  {
   "cell_type": "markdown",
   "id": "9df9e465-211e-471f-b6be-9965c0a6b951",
   "metadata": {},
   "source": [
    "## Problem 6:\n",
    "`type` column can be split into condition and fuel."
   ]
  },
  {
   "cell_type": "code",
   "execution_count": 20,
   "id": "96d42001-30f9-4ba0-bfe0-17750f61e550",
   "metadata": {},
   "outputs": [
    {
     "data": {
      "text/plain": [
       "<AxesSubplot:>"
      ]
     },
     "execution_count": 20,
     "metadata": {},
     "output_type": "execute_result"
    },
    {
     "data": {
      "image/png": "[encoded data removed]",
      "text/plain": [
       "<Figure size 432x288 with 1 Axes>"
      ]
     },
     "metadata": {
      "needs_background": "light"
     },
     "output_type": "display_data"
    }
   ],
   "source": [
    "# plote the different types\n",
    "raw_df.type.value_counts().plot(kind=\"barh\")"
   ]
  },
  {
   "cell_type": "code",
   "execution_count": 23,
   "id": "8d9da608-522b-4cd1-a9b5-a726232595c8",
   "metadata": {},
   "outputs": [],
   "source": [
    "# We can separete the type column to condition and fuel with these categories\n",
    "COND = ['new boat from stock', 'Used boat', 'new boat on order', 'Display Model',\"not defined\"]\n",
    "FUEL = ['Unleaded', 'Electric', 'Diesel', 'Gas', 'Hybrid','Propane',\"not defined\"]\n",
    "UNCORRECT_TYPES = ['Unleaded', 'Diesel','Electric']"
   ]
  },
  {
   "cell_type": "code",
   "execution_count": 114,
   "id": "dd8cb4b9-5a93-496d-afe7-f13d03495eb6",
   "metadata": {},
   "outputs": [],
   "source": [
    "# To spereate the type column \n",
    "\n",
    "# Create a different data frame with only the type col seperate to condition and fuel\n",
    "df = raw_df.type.str.split(\",\",expand=True).rename(columns={0:\"condition\",1:\"fuel\"})\n",
    "\n",
    "# get the index in the condition col with wrong values \n",
    "index = df.query(\"condition in @UNCORRECT_TYPES\").index \n",
    "\n",
    "# get the value in the wrong condition to swape it with fuel\n",
    "values = df.query(\"condition in @UNCORRECT_TYPES\").condition\n",
    "df.loc[index,\"fuel\"] = values\n",
    "\n",
    "# label all the wrong condition and nall fuel to not defined\n",
    "df.loc[index,\"condition\"] = \"not defined\"\n",
    "df.fuel.fillna(value=\"not defined\",inplace=True)"
   ]
  },
  {
   "cell_type": "code",
   "execution_count": 118,
   "id": "9f5b1ae6-3208-41ca-8977-58502488e11e",
   "metadata": {},
   "outputs": [],
   "source": [
    "# drop the type column and insert the condition and fuel cols\n",
    "raw_df.drop(columns=\"type\",inplace=True)\n",
    "raw_df[\"condition\"] = df.condition\n",
    "raw_df[\"fuel\"] = df.fuel"
   ]
  },
  {
   "cell_type": "code",
   "execution_count": 121,
   "id": "a0640085-c9e3-4ee9-9d5c-567cc7372f37",
   "metadata": {},
   "outputs": [
    {
     "data": {
      "text/plain": [
       "<AxesSubplot:>"
      ]
     },
     "execution_count": 121,
     "metadata": {},
     "output_type": "execute_result"
    },
    {
     "data": {
      "image/png": "[encoded data removed]",
      "text/plain": [
       "<Figure size 432x288 with 1 Axes>"
      ]
     },
     "metadata": {
      "needs_background": "light"
     },
     "output_type": "display_data"
    }
   ],
   "source": [
    "# Check\n",
    "raw_df.condition.value_counts().plot(kind=\"bar\")"
   ]
  },
  {
   "cell_type": "code",
   "execution_count": 122,
   "id": "fc2251b7-a0f7-48e0-92aa-8d68831ba0da",
   "metadata": {},
   "outputs": [
    {
     "data": {
      "text/plain": [
       "<AxesSubplot:>"
      ]
     },
     "execution_count": 122,
     "metadata": {},
     "output_type": "execute_result"
    },
    {
     "data": {
      "image/png": "[encoded data removed]",
      "text/plain": [
       "<Figure size 432x288 with 1 Axes>"
      ]
     },
     "metadata": {
      "needs_background": "light"
     },
     "output_type": "display_data"
    }
   ],
   "source": [
    "raw_df.fuel.value_counts().plot(kind=\"bar\")"
   ]
  },
  {
   "cell_type": "markdown",
   "id": "71b53464-5e1e-44cd-9081-17d09e6f63a8",
   "metadata": {},
   "source": [
    "## Problem 7:\n",
    "`material`, `condition` and `fuel` has a few unique values, so we can convert it to category"
   ]
  },
  {
   "cell_type": "code",
   "execution_count": 129,
   "id": "320e5c3b-4a50-407a-a7ba-f28252a7f649",
   "metadata": {},
   "outputs": [],
   "source": [
    "# Convert the material, condition and fuel to category dtype\n",
    "raw_df.material = raw_df.material.astype(\"category\")\n",
    "raw_df.condition = raw_df.condition.astype(\"category\")\n",
    "raw_df.fuel = raw_df.fuel.astype(\"category\")"
   ]
  },
  {
   "cell_type": "code",
   "execution_count": 131,
   "id": "7492feff-b0a2-4247-aaf8-8bd64ff33bb8",
   "metadata": {},
   "outputs": [
    {
     "name": "stdout",
     "output_type": "stream",
     "text": [
      "<class 'pandas.core.frame.DataFrame'>\n",
      "RangeIndex: 9888 entries, 0 to 9887\n",
      "Data columns (total 13 columns):\n",
      " #   Column        Non-Null Count  Dtype         \n",
      "---  ------        --------------  -----         \n",
      " 0   price_eur     9888 non-null   float64       \n",
      " 1   boat_type     9888 non-null   object        \n",
      " 2   manufacturer  9888 non-null   object        \n",
      " 3   year_built    9337 non-null   datetime64[ns]\n",
      " 4   length        9879 non-null   float64       \n",
      " 5   width         9832 non-null   float64       \n",
      " 6   material      9888 non-null   category      \n",
      " 7   location      9852 non-null   object        \n",
      " 8   views         9888 non-null   int64         \n",
      " 9   country       9852 non-null   object        \n",
      " 10  waterway      8945 non-null   object        \n",
      " 11  condition     9882 non-null   category      \n",
      " 12  fuel          9888 non-null   category      \n",
      "dtypes: category(3), datetime64[ns](1), float64(3), int64(1), object(5)\n",
      "memory usage: 802.5+ KB\n"
     ]
    }
   ],
   "source": [
    "# Check\n",
    "raw_df.info()"
   ]
  },
  {
   "cell_type": "markdown",
   "id": "c4c46111-37d8-4c82-91ab-73f4adf07909",
   "metadata": {},
   "source": [
    "## Save the cleaned dataset"
   ]
  },
  {
   "cell_type": "code",
   "execution_count": 138,
   "id": "b200f568-253b-487e-9811-073399e05189",
   "metadata": {},
   "outputs": [],
   "source": [
    "raw_df.to_pickle(EXPROT_PATH)"
   ]
  },
  {
   "cell_type": "code",
   "execution_count": null,
   "id": "2ea57dce-6482-4c65-a680-671e0e91d0c6",
   "metadata": {},
   "outputs": [],
   "source": []
  }
 ],
 "metadata": {
  "kernelspec": {
   "display_name": "Python 3",
   "language": "python",
   "name": "python3"
  },
  "language_info": {
   "codemirror_mode": {
    "name": "ipython",
    "version": 3
   },
   "file_extension": ".py",
   "mimetype": "text/x-python",
   "name": "python",
   "nbconvert_exporter": "python",
   "pygments_lexer": "ipython3",
   "version": "3.8.10"
  }
 },
 "nbformat": 4,
 "nbformat_minor": 5
}
